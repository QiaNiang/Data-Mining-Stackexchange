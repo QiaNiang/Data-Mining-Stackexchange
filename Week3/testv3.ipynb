{
 "cells": [
  {
   "cell_type": "code",
   "execution_count": 4,
   "id": "bdaedd2b",
   "metadata": {},
   "outputs": [],
   "source": [
    "\n",
    "import pandas as pd\n",
    "\n",
    "# Load your merged file\n",
    "merged_path = \"/Users/adilshamji/Documents/25-Data-mining-lab/Data-Mining-Stackexchange/data/posts_with_comments_and_users.csv\"\n",
    "df = pd.read_csv(merged_path, dtype=str)"
   ]
  },
  {
   "cell_type": "code",
   "execution_count": 5,
   "id": "b2797b2c",
   "metadata": {},
   "outputs": [
    {
     "name": "stdout",
     "output_type": "stream",
     "text": [
      "(1339865, 46)\n",
      "['PostId', 'PostTypeId', 'AcceptedAnswerId', 'CreationDate', 'posts.Score', 'ViewCount', 'posts.Body', 'OwnerUserId', 'LastEditorUserId', 'LastEditDate', 'LastActivityDate', 'posts.Title', 'Tags', 'AnswerCount', 'CommentCount', 'ContentLicense', 'ParentId', 'OwnerDisplayName', 'ClosedDate', 'LastEditorDisplayName', 'CommunityOwnedDate', 'FavoriteCount', 'posts.CleanBodyNoMath', 'posts.SentimentScore', 'posts.SentimentLabel', 'Id', 'comments.Score', 'comments.Text', 'comments.CreationDate', 'UserId', 'comments.UserDisplayName', 'users.Reputation', 'CreationDate_user', 'users.DisplayName', 'LastAccessDate', 'WebsiteUrl', 'Location', 'AboutMe', 'Views', 'UpVotes', 'DownVotes', 'AccountId', 'users.Country', 'users.SentimentLabel', 'users.SentimentScore', 'SentimentValue']\n",
      "  PostId PostTypeId AcceptedAnswerId             CreationDate posts.Score  \\\n",
      "0      1          1              5.0  2010-11-02 18:59:01.140          87   \n",
      "1      1          1              5.0  2010-11-02 18:59:01.140          87   \n",
      "2      1          1              5.0  2010-11-02 18:59:01.140          87   \n",
      "\n",
      "  ViewCount                                         posts.Body OwnerUserId  \\\n",
      "0   20982.0  I often hear about subatomic particles having ...         7.0   \n",
      "1   20982.0  I often hear about subatomic particles having ...         7.0   \n",
      "2   20982.0  I often hear about subatomic particles having ...         7.0   \n",
      "\n",
      "  LastEditorUserId             LastEditDate  ...     Location  \\\n",
      "0            520.0  2012-08-19 23:00:18.417  ...          NaN   \n",
      "1            520.0  2012-08-19 23:00:18.417  ...  switzerland   \n",
      "2            520.0  2012-08-19 23:00:18.417  ...       europe   \n",
      "\n",
      "                        AboutMe     Views UpVotes DownVotes AccountId  \\\n",
      "0                           NaN     708.0   133.0      11.0  510285.0   \n",
      "1                           NaN      15.0    25.0       1.0  209557.0   \n",
      "2  I'm a theoretical physicist.  120311.0  9277.0    9460.0  387099.0   \n",
      "\n",
      "  users.Country users.SentimentLabel users.SentimentScore SentimentValue  \n",
      "0           NaN                  NaN                  NaN            NaN  \n",
      "1   switzerland                  NaN                  NaN            NaN  \n",
      "2           NaN              neutral   0.7657970190048218            0.0  \n",
      "\n",
      "[3 rows x 46 columns]\n"
     ]
    }
   ],
   "source": [
    "print(df.shape)\n",
    "print(df.columns.tolist())\n",
    "print(df.head(3))"
   ]
  },
  {
   "cell_type": "code",
   "execution_count": null,
   "id": "bd73c704",
   "metadata": {},
   "outputs": [],
   "source": []
  }
 ],
 "metadata": {
  "kernelspec": {
   "display_name": "Python 3",
   "language": "python",
   "name": "python3"
  },
  "language_info": {
   "codemirror_mode": {
    "name": "ipython",
    "version": 3
   },
   "file_extension": ".py",
   "mimetype": "text/x-python",
   "name": "python",
   "nbconvert_exporter": "python",
   "pygments_lexer": "ipython3",
   "version": "3.8.6"
  }
 },
 "nbformat": 4,
 "nbformat_minor": 5
}
