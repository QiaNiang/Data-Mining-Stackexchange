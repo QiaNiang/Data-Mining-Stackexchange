{
 "cells": [
  {
   "cell_type": "code",
   "execution_count": 2,
   "id": "8b561cf7",
   "metadata": {},
   "outputs": [],
   "source": [
    "import pandas as pd\n",
    "\n",
    "# Load your merged file\n",
    "merged_path = \"/Users/adilshamji/Documents/25-Data-mining-lab/Data-Mining-Stackexchange/data/posts_with_comments_and_users.csv\"\n",
    "df = pd.read_csv(merged_path, dtype=str)\n"
   ]
  },
  {
   "cell_type": "code",
   "execution_count": 4,
   "id": "78233274",
   "metadata": {},
   "outputs": [
    {
     "name": "stdout",
     "output_type": "stream",
     "text": [
      "['PostId', 'PostTypeId', 'AcceptedAnswerId', 'comments.CreationDate', 'comments.Score', 'ViewCount', 'posts.Body', 'OwnerUserId', 'LastEditorUserId', 'LastEditDate', 'LastActivityDate', 'posts.Title', 'Tags', 'AnswerCount', 'CommentCount', 'ContentLicense', 'ParentId', 'OwnerDisplayName', 'ClosedDate', 'LastEditorDisplayName', 'CommunityOwnedDate', 'FavoriteCount', 'posts.CleanBodyNoMath', 'posts.SentimentScore', 'posts.SentimentLabel', 'Id', 'Score_comment', 'comments.Text', 'CreationDate_comment', 'UserId', 'comments.UserDisplayName', 'users.Reputation', 'CreationDate_user', 'users.DisplayName', 'LastAccessDate', 'WebsiteUrl', 'Location', 'AboutMe', 'Views', 'UpVotes', 'DownVotes', 'AccountId', 'users.Country', 'users.SentimentLabel', 'users.SentimentScore', 'SentimentValue']\n"
     ]
    }
   ],
   "source": [
    "print(df.columns.tolist())\n"
   ]
  },
  {
   "cell_type": "code",
   "execution_count": 6,
   "id": "acb9efa1",
   "metadata": {},
   "outputs": [
    {
     "name": "stdout",
     "output_type": "stream",
     "text": [
      "1339865\n",
      "  Score_comment comments.Score\n",
      "0          10.0             87\n",
      "1           2.0             87\n",
      "2           6.0             87\n",
      "3           2.0             31\n",
      "4           2.0             31\n",
      "5           6.0             31\n",
      "6           0.0             31\n",
      "7           1.0             46\n",
      "8           3.0             46\n",
      "9          25.0             28\n"
     ]
    }
   ],
   "source": [
    "count = (df['comments.Score'] != df['Score_comment']).sum()\n",
    "print(count)\n",
    "print(df[['Score_comment', 'comments.Score']].dropna().head(10))\n"
   ]
  },
  {
   "cell_type": "code",
   "execution_count": 2,
   "id": "6c4e67f6",
   "metadata": {},
   "outputs": [],
   "source": [
    "# 1. Which posts have at least one non-empty comment?\n",
    "posts_with_comment = set(\n",
    "    df[df[\"comments.Text\"].fillna(\"\").str.strip() != \"\"][\"PostId\"]\n",
    ")"
   ]
  },
  {
   "cell_type": "code",
   "execution_count": 3,
   "id": "dce60004",
   "metadata": {},
   "outputs": [
    {
     "name": "stderr",
     "output_type": "stream",
     "text": [
      "/var/folders/7k/0ysh65352j9bnvtmhpr3kcs00000gn/T/ipykernel_77074/2038760271.py:7: DtypeWarning: Columns (0) have mixed types. Specify dtype option on import or set low_memory=False.\n",
      "  comments_df = pd.read_csv(comments_path, dtype={\"UserId\": str, \"PostId\": str})\n"
     ]
    }
   ],
   "source": [
    "users_path    = \"/Users/adilshamji/Documents/25-Data-mining-lab/Data-Mining-Stackexchange/data/UsersWithSentimentAndCountry.csv\"\n",
    "comments_path = \"/Users/adilshamji/Documents/25-Data-mining-lab/Data-Mining-Stackexchange/data/Comments.csv\"\n",
    "posts_path    = \"/Users/adilshamji/Documents/25-Data-mining-lab/Data-Mining-Stackexchange/data/Posts_with_sentiment.csv\"\n",
    "\n",
    "# Load datasets\n",
    "users_df    = pd.read_csv(users_path, dtype={\"Id\": str})\n",
    "comments_df = pd.read_csv(comments_path, dtype={\"UserId\": str, \"PostId\": str})\n",
    "posts_df    = pd.read_csv(posts_path, dtype={\"Id\": str})"
   ]
  },
  {
   "cell_type": "code",
   "execution_count": 4,
   "id": "e31e91f3",
   "metadata": {},
   "outputs": [
    {
     "name": "stdout",
     "output_type": "stream",
     "text": [
      "USERS\n",
      "['Id', 'Reputation', 'CreationDate', 'DisplayName', 'LastAccessDate', 'WebsiteUrl', 'Location', 'AboutMe', 'Views', 'UpVotes', 'DownVotes', 'AccountId', 'LocationCountry', 'SentimentLabel', 'SentimentScore', 'SentimentValue']\n",
      "comments\n",
      "['Id', 'PostId', 'Score', 'Text', 'CreationDate', 'UserId', 'UserDisplayName']\n",
      "Posts\n",
      "['Id', 'PostTypeId', 'AcceptedAnswerId', 'CreationDate', 'Score', 'ViewCount', 'Body', 'OwnerUserId', 'LastEditorUserId', 'LastEditDate', 'LastActivityDate', 'Title', 'Tags', 'AnswerCount', 'CommentCount', 'ContentLicense', 'ParentId', 'OwnerDisplayName', 'ClosedDate', 'LastEditorDisplayName', 'CommunityOwnedDate', 'FavoriteCount', 'CleanBodyNoMath', 'SentimentScore', 'SentimentLabel']\n",
      "First 10 values of AcceptedAnswerId:\n",
      "0       5.0\n",
      "1    5704.0\n",
      "2     180.0\n",
      "3       0.0\n",
      "4       0.0\n",
      "5      46.0\n",
      "6       0.0\n",
      "7       0.0\n",
      "8       0.0\n",
      "9       0.0\n",
      "Name: AcceptedAnswerId, dtype: float64\n"
     ]
    }
   ],
   "source": [
    "print(\"USERS\")\n",
    "print(users_df.columns.tolist())\n",
    "print(\"comments\")\n",
    "print(comments_df.columns.tolist())\n",
    "print(\"Posts\")\n",
    "print(posts_df.columns.tolist())\n",
    "\n",
    "print(\"First 10 values of AcceptedAnswerId:\")\n",
    "print(posts_df['AcceptedAnswerId'].head(10))\n",
    "\n",
    "\n"
   ]
  },
  {
   "cell_type": "code",
   "execution_count": 3,
   "id": "1185222f",
   "metadata": {},
   "outputs": [],
   "source": [
    "# 2. All posts in the file\n",
    "all_posts = set(df[\"PostId\"].unique())"
   ]
  },
  {
   "cell_type": "code",
   "execution_count": 4,
   "id": "6505e438",
   "metadata": {},
   "outputs": [],
   "source": [
    "# 3. Posts with NO comments\n",
    "posts_no_comment = all_posts - posts_with_comment"
   ]
  },
  {
   "cell_type": "code",
   "execution_count": 5,
   "id": "e76ee4de",
   "metadata": {},
   "outputs": [
    {
     "name": "stdout",
     "output_type": "stream",
     "text": [
      "📝 Total posts in merged file: 576894\n",
      "❌ Posts with NO comments: 254183\n"
     ]
    }
   ],
   "source": [
    "\n",
    "print(f\"📝 Total posts in merged file: {len(all_posts)}\")\n",
    "print(f\"❌ Posts with NO comments: {len(posts_no_comment)}\")"
   ]
  },
  {
   "cell_type": "code",
   "execution_count": 6,
   "id": "e8d505c3",
   "metadata": {},
   "outputs": [],
   "source": [
    "# 4. Show some examples (one row per post)\n",
    "posts_no_comment_df = df[df[\"PostId\"].isin(posts_no_comment)]\n",
    "posts_no_comment_df = posts_no_comment_df.drop_duplicates(subset=[\"PostId\"])"
   ]
  },
  {
   "cell_type": "code",
   "execution_count": 8,
   "id": "431fc088",
   "metadata": {},
   "outputs": [
    {
     "name": "stdout",
     "output_type": "stream",
     "text": [
      "\n",
      "Examples of posts without comments:\n"
     ]
    },
    {
     "data": {
      "application/vnd.microsoft.datawrangler.viewer.v0+json": {
       "columns": [
        {
         "name": "index",
         "rawType": "int64",
         "type": "integer"
        },
        {
         "name": "PostId",
         "rawType": "object",
         "type": "string"
        },
        {
         "name": "PostTypeId",
         "rawType": "object",
         "type": "string"
        },
        {
         "name": "AcceptedAnswerId",
         "rawType": "object",
         "type": "string"
        },
        {
         "name": "comments.CreationDate",
         "rawType": "object",
         "type": "string"
        },
        {
         "name": "comments.Score",
         "rawType": "object",
         "type": "string"
        },
        {
         "name": "ViewCount",
         "rawType": "object",
         "type": "string"
        },
        {
         "name": "posts.Body",
         "rawType": "object",
         "type": "string"
        },
        {
         "name": "OwnerUserId",
         "rawType": "object",
         "type": "unknown"
        },
        {
         "name": "LastEditorUserId",
         "rawType": "object",
         "type": "unknown"
        },
        {
         "name": "LastEditDate",
         "rawType": "object",
         "type": "unknown"
        },
        {
         "name": "LastActivityDate",
         "rawType": "object",
         "type": "string"
        },
        {
         "name": "posts.Title",
         "rawType": "object",
         "type": "unknown"
        },
        {
         "name": "Tags",
         "rawType": "object",
         "type": "unknown"
        },
        {
         "name": "AnswerCount",
         "rawType": "object",
         "type": "string"
        },
        {
         "name": "CommentCount",
         "rawType": "object",
         "type": "string"
        },
        {
         "name": "ContentLicense",
         "rawType": "object",
         "type": "string"
        },
        {
         "name": "ParentId",
         "rawType": "object",
         "type": "unknown"
        },
        {
         "name": "OwnerDisplayName",
         "rawType": "object",
         "type": "unknown"
        },
        {
         "name": "ClosedDate",
         "rawType": "object",
         "type": "unknown"
        },
        {
         "name": "LastEditorDisplayName",
         "rawType": "object",
         "type": "unknown"
        },
        {
         "name": "CommunityOwnedDate",
         "rawType": "object",
         "type": "unknown"
        },
        {
         "name": "FavoriteCount",
         "rawType": "object",
         "type": "unknown"
        },
        {
         "name": "posts.CleanBodyNoMath",
         "rawType": "object",
         "type": "string"
        },
        {
         "name": "posts.SentimentScore",
         "rawType": "object",
         "type": "string"
        },
        {
         "name": "posts.SentimentLabel",
         "rawType": "object",
         "type": "string"
        },
        {
         "name": "Id",
         "rawType": "object",
         "type": "unknown"
        },
        {
         "name": "Score_comment",
         "rawType": "object",
         "type": "unknown"
        },
        {
         "name": "comments.Text",
         "rawType": "object",
         "type": "unknown"
        },
        {
         "name": "CreationDate_comment",
         "rawType": "object",
         "type": "unknown"
        },
        {
         "name": "UserId",
         "rawType": "object",
         "type": "unknown"
        },
        {
         "name": "comments.UserDisplayName",
         "rawType": "object",
         "type": "unknown"
        },
        {
         "name": "users.Reputation",
         "rawType": "object",
         "type": "unknown"
        },
        {
         "name": "CreationDate_user",
         "rawType": "object",
         "type": "unknown"
        },
        {
         "name": "users.DisplayName",
         "rawType": "object",
         "type": "unknown"
        },
        {
         "name": "LastAccessDate",
         "rawType": "object",
         "type": "unknown"
        },
        {
         "name": "WebsiteUrl",
         "rawType": "object",
         "type": "unknown"
        },
        {
         "name": "Location",
         "rawType": "object",
         "type": "unknown"
        },
        {
         "name": "AboutMe",
         "rawType": "object",
         "type": "unknown"
        },
        {
         "name": "Views",
         "rawType": "object",
         "type": "unknown"
        },
        {
         "name": "UpVotes",
         "rawType": "object",
         "type": "unknown"
        },
        {
         "name": "DownVotes",
         "rawType": "object",
         "type": "unknown"
        },
        {
         "name": "AccountId",
         "rawType": "object",
         "type": "unknown"
        },
        {
         "name": "users.Country",
         "rawType": "object",
         "type": "unknown"
        },
        {
         "name": "users.SentimentLabel",
         "rawType": "object",
         "type": "unknown"
        },
        {
         "name": "users.SentimentScore",
         "rawType": "object",
         "type": "unknown"
        },
        {
         "name": "SentimentValue",
         "rawType": "object",
         "type": "unknown"
        }
       ],
       "ref": "3565d674-7c14-4873-bcbc-ef93cba17a34",
       "rows": [
        [
         "11",
         "5",
         "2",
         "0.0",
         "2010-11-02 19:15:20.813",
         "52",
         "0.0",
         "Spin is a technical term specifically referring to intrinsic angular momentum of particles. It means a very specific thing in quantum/particle physics. (Physicists often borrow loosely related everyday words and give them a very precise physical/mathematical definition.)\nSince truly fundamental particles (e.g. electrons) are point entities, i.e. have no true size in space, it does not make sense to consider them 'spinning' in the common sense, yet they still possess their own angular momenta. Note however, that like many quantum states (fundamental variables of systems in quantum mechanics,) spin is quantised; i.e. it can only take one of a set of discrete values. Specifically, the allowed values of the spin quantum number $s$ are non-negative multiples of 1/2. The actual spin momentum (denoted $S$) is a multiple of Planck's constant, and is given by $S = \\hbar \\sqrt{s (s + 1)}$.\nWhen it comes to composite particles (e.g. nuclei, atoms), spin is actually fairly easy to deal with. Like normal (orbital) angular momentum, it adds up linearly. Hence a proton, made of three constituent quarks, has overall spin 1/2.\nIf you're curious as to how this (initially rather strange) concept of spin was discovered, I suggest reading about the Stern-Gerlach experiment of the 1920s. It was later put into the theoretical framework of quantum mechanics by Schrodinger and Pauli.\n",
         "13.0",
         "75633.0",
         "2017-12-13 08:24:54.477",
         "2017-12-13 08:24:54.477",
         null,
         null,
         "0.0",
         "0",
         "CC BY-SA 3.0",
         "1.0",
         null,
         null,
         null,
         null,
         null,
         "Spin is a technical term specifically referring to intrinsic angular momentum of particles. It means a very specific thing in quantum/particle physics. (Physicists often borrow loosely related everyday words and give them a very precise physical/mathematical definition.)\nSince truly fundamental particles (e.g. electrons) are point entities, i.e. have no true size in space, it does not make sense to consider them 'spinning' in the common sense, yet they still possess their own angular momenta. Note however, that like many quantum states (fundamental variables of systems in quantum mechanics,) spin is quantised; i.e. it can only take one of a set of discrete values. Specifically, the allowed values of the spin quantum number  are non-negative multiples of 1/2. The actual spin momentum (denoted ) is a multiple of Planck's constant, and is given by .\nWhen it comes to composite particles (e.g. nuclei, atoms), spin is actually fairly easy to deal with. Like normal (orbital) angular momentum, it adds up linearly. Hence a proton, made of three constituent quarks, has overall spin 1/2.\nIf you're curious as to how this (initially rather strange) concept of spin was discovered, I suggest reading about the Stern-Gerlach experiment of the 1920s. It was later put into the theoretical framework of quantum mechanics by Schrodinger and Pauli.\n",
         "0.5697",
         "neutral",
         null,
         null,
         null,
         null,
         null,
         null,
         null,
         null,
         null,
         null,
         null,
         null,
         null,
         null,
         null,
         null,
         null,
         null,
         null,
         null,
         null
        ],
        [
         "38",
         "17",
         "1",
         "22.0",
         "2010-11-02 20:00:49.790",
         "50",
         "15144.0",
         "Why does the sky change color? Why is the sky blue during the day, red during sunrise/set and black during the night?\n",
         null,
         "36793.0",
         "2017-07-21 18:56:56.237",
         "2020-01-11 11:41:48.053",
         "Why does the sky change color? Why is the sky blue during the day, red during sunrise/set and black during the night?",
         "|optics|visible-light|scattering|atmospheric-science|faq|",
         "5.0",
         "0",
         "CC BY-SA 3.0",
         null,
         "user68",
         null,
         null,
         null,
         null,
         "Why does the sky change color? Why is the sky blue during the day, red during sunrise/set and black during the night?\n",
         "0.6815",
         "neutral",
         null,
         null,
         null,
         null,
         null,
         null,
         null,
         null,
         null,
         null,
         null,
         null,
         null,
         null,
         null,
         null,
         null,
         null,
         null,
         null,
         null
        ],
        [
         "43",
         "19",
         "1",
         "45.0",
         "2010-11-02 20:03:34.887",
         "5",
         "5864.0",
         "Physicists often refer to the energy of collisions between different particles. My question is: how is that energy calculated? Is that kinetic energy?\nAlso, related to this question, I know that the aim is to have higher and higher energy collisions (e.g to test for Higgs Boson). My understanding is that to have higher energy you can either accelerate them more, or use particles with higher mass. Is this correct?\n",
         "57.0",
         "226060.0",
         "2021-06-05 07:17:47.547",
         "2021-06-05 07:17:47.547",
         "How's the energy of particle collisions calculated?",
         "|energy|particle-physics|collision|higgs|",
         "3.0",
         "0",
         "CC BY-SA 3.0",
         null,
         null,
         null,
         null,
         null,
         null,
         "Physicists often refer to the energy of collisions between different particles. My question is: how is that energy calculated? Is that kinetic energy?\nAlso, related to this question, I know that the aim is to have higher and higher energy collisions (e.g to test for Higgs Boson). My understanding is that to have higher energy you can either accelerate them more, or use particles with higher mass. Is this correct?\n",
         "0.7741",
         "neutral",
         null,
         null,
         null,
         null,
         null,
         null,
         null,
         null,
         null,
         null,
         null,
         null,
         null,
         null,
         null,
         null,
         null,
         null,
         null,
         null,
         null
        ],
        [
         "44",
         "20",
         "2",
         "0.0",
         "2010-11-02 20:04:33.713",
         "12",
         "0.0",
         "In general usage, \"sound\" refers to our perception of the vibrations of particles (atoms, molecules) in some medium, typically air or water, though sound waves can travel through any medium.  \nVibrations are produced whenever objects cause the particles in the medium to oscillate, e.g. clapping your hands together, beating a drum, or yelling.  \nSound can be measured the way it is heard - just as air molecules begin to vibrate in the presence of a vibrating object - the air molecules can cause other things to vibrate (such as our eardrums, or a part of a microphone) and we can quantify the level of sound by measuring the motion of the detector in any number of ways.\nAt a deeper level, sound waves are the \"Goldstone modes\" corresponding to broken translational symmetry of the surrounding medium.  \nLet me try to bring this a little more down to earth.  Think about a parcel of air, large enough to contain a lot of air molecules, but not so large that there are sizable air currents swirling within.  We can think of this in an ideal situation as being a fluid of uniform density.  This fluid has translational symmetry - if I translate it a little in any direction, it looks more or less the same \"in the bulk\".  Translational symmetry is a continuous symmetry, so I can squeeze the air in a spatially-varying way.  It turns out that if I do this in a wavelike pattern with a long wavelength, this is an excitation that costs very little energy, and hence will be important to the physics.  These waves are precisely sound waves.  This probably doesn't make much sense as I've written it, so I may try to edit this a bit later on if anyone is actually interested in this point of view.\n",
         "42.0",
         null,
         null,
         "2010-11-02 20:04:33.713",
         null,
         null,
         "0.0",
         "0",
         "CC BY-SA 2.5",
         "13.0",
         null,
         null,
         null,
         null,
         null,
         "In general usage, \"sound\" refers to our perception of the vibrations of particles (atoms, molecules) in some medium, typically air or water, though sound waves can travel through any medium.  \nVibrations are produced whenever objects cause the particles in the medium to oscillate, e.g. clapping your hands together, beating a drum, or yelling.  \nSound can be measured the way it is heard - just as air molecules begin to vibrate in the presence of a vibrating object - the air molecules can cause other things to vibrate (such as our eardrums, or a part of a microphone) and we can quantify the level of sound by measuring the motion of the detector in any number of ways.\nAt a deeper level, sound waves are the \"Goldstone modes\" corresponding to broken translational symmetry of the surrounding medium.  \nLet me try to bring this a little more down to earth.  Think about a parcel of air, large enough to contain a lot of air molecules, but not so large that there are sizable air currents swirling within.  We can think of this in an ideal situation as being a fluid of uniform density.  This fluid has translational symmetry - if I translate it a little in any direction, it looks more or less the same \"in the bulk\".  Translational symmetry is a continuous symmetry, so I can squeeze the air in a spatially-varying way.  It turns out that if I do this in a wavelike pattern with a long wavelength, this is an excitation that costs very little energy, and hence will be important to the physics.  These waves are precisely sound waves.  This probably doesn't make much sense as I've written it, so I may try to edit this a bit later on if anyone is actually interested in this point of view.\n",
         "0.6113",
         "neutral",
         null,
         null,
         null,
         null,
         null,
         null,
         null,
         null,
         null,
         null,
         null,
         null,
         null,
         null,
         null,
         null,
         null,
         null,
         null,
         null,
         null
        ],
        [
         "49",
         "23",
         "2",
         "0.0",
         "2010-11-02 20:10:50.757",
         "2",
         "0.0",
         "Sound is air molecules hitting each other, bouncing back, then again hitting each other, and so on. This back-and-forth movement is called vibration. Sound is produced when something like a drum vibrates, and starts the aforementioned bouncing of air molecules. Sound is picked up inside your ears by eardrums, which are like reverse-drums, in that they vibrate with the air molecules. This vibration is then converted to biochemical signals which travel to your brain.\nThere is a MikeJarman's visualization on YouTube: How Air Molecules work.\n",
         "47.0",
         "137269.0",
         "2019-07-16 19:28:53.297",
         "2019-07-16 19:28:53.297",
         null,
         null,
         "0.0",
         "0",
         "CC BY-SA 4.0",
         "13.0",
         null,
         null,
         null,
         null,
         null,
         "Sound is air molecules hitting each other, bouncing back, then again hitting each other, and so on. This back-and-forth movement is called vibration. Sound is produced when something like a drum vibrates, and starts the aforementioned bouncing of air molecules. Sound is picked up inside your ears by eardrums, which are like reverse-drums, in that they vibrate with the air molecules. This vibration is then converted to biochemical signals which travel to your brain.\nThere is a MikeJarman's visualization on YouTube: How Air Molecules work.\n",
         "0.8022",
         "neutral",
         null,
         null,
         null,
         null,
         null,
         null,
         null,
         null,
         null,
         null,
         null,
         null,
         null,
         null,
         null,
         null,
         null,
         null,
         null,
         null,
         null
        ]
       ],
       "shape": {
        "columns": 46,
        "rows": 5
       }
      },
      "text/html": [
       "<div>\n",
       "<style scoped>\n",
       "    .dataframe tbody tr th:only-of-type {\n",
       "        vertical-align: middle;\n",
       "    }\n",
       "\n",
       "    .dataframe tbody tr th {\n",
       "        vertical-align: top;\n",
       "    }\n",
       "\n",
       "    .dataframe thead th {\n",
       "        text-align: right;\n",
       "    }\n",
       "</style>\n",
       "<table border=\"1\" class=\"dataframe\">\n",
       "  <thead>\n",
       "    <tr style=\"text-align: right;\">\n",
       "      <th></th>\n",
       "      <th>PostId</th>\n",
       "      <th>PostTypeId</th>\n",
       "      <th>AcceptedAnswerId</th>\n",
       "      <th>comments.CreationDate</th>\n",
       "      <th>comments.Score</th>\n",
       "      <th>ViewCount</th>\n",
       "      <th>posts.Body</th>\n",
       "      <th>OwnerUserId</th>\n",
       "      <th>LastEditorUserId</th>\n",
       "      <th>LastEditDate</th>\n",
       "      <th>...</th>\n",
       "      <th>Location</th>\n",
       "      <th>AboutMe</th>\n",
       "      <th>Views</th>\n",
       "      <th>UpVotes</th>\n",
       "      <th>DownVotes</th>\n",
       "      <th>AccountId</th>\n",
       "      <th>users.Country</th>\n",
       "      <th>users.SentimentLabel</th>\n",
       "      <th>users.SentimentScore</th>\n",
       "      <th>SentimentValue</th>\n",
       "    </tr>\n",
       "  </thead>\n",
       "  <tbody>\n",
       "    <tr>\n",
       "      <th>11</th>\n",
       "      <td>5</td>\n",
       "      <td>2</td>\n",
       "      <td>0.0</td>\n",
       "      <td>2010-11-02 19:15:20.813</td>\n",
       "      <td>52</td>\n",
       "      <td>0.0</td>\n",
       "      <td>Spin is a technical term specifically referrin...</td>\n",
       "      <td>13.0</td>\n",
       "      <td>75633.0</td>\n",
       "      <td>2017-12-13 08:24:54.477</td>\n",
       "      <td>...</td>\n",
       "      <td>NaN</td>\n",
       "      <td>NaN</td>\n",
       "      <td>NaN</td>\n",
       "      <td>NaN</td>\n",
       "      <td>NaN</td>\n",
       "      <td>NaN</td>\n",
       "      <td>NaN</td>\n",
       "      <td>NaN</td>\n",
       "      <td>NaN</td>\n",
       "      <td>NaN</td>\n",
       "    </tr>\n",
       "    <tr>\n",
       "      <th>38</th>\n",
       "      <td>17</td>\n",
       "      <td>1</td>\n",
       "      <td>22.0</td>\n",
       "      <td>2010-11-02 20:00:49.790</td>\n",
       "      <td>50</td>\n",
       "      <td>15144.0</td>\n",
       "      <td>Why does the sky change color? Why is the sky ...</td>\n",
       "      <td>NaN</td>\n",
       "      <td>36793.0</td>\n",
       "      <td>2017-07-21 18:56:56.237</td>\n",
       "      <td>...</td>\n",
       "      <td>NaN</td>\n",
       "      <td>NaN</td>\n",
       "      <td>NaN</td>\n",
       "      <td>NaN</td>\n",
       "      <td>NaN</td>\n",
       "      <td>NaN</td>\n",
       "      <td>NaN</td>\n",
       "      <td>NaN</td>\n",
       "      <td>NaN</td>\n",
       "      <td>NaN</td>\n",
       "    </tr>\n",
       "    <tr>\n",
       "      <th>43</th>\n",
       "      <td>19</td>\n",
       "      <td>1</td>\n",
       "      <td>45.0</td>\n",
       "      <td>2010-11-02 20:03:34.887</td>\n",
       "      <td>5</td>\n",
       "      <td>5864.0</td>\n",
       "      <td>Physicists often refer to the energy of collis...</td>\n",
       "      <td>57.0</td>\n",
       "      <td>226060.0</td>\n",
       "      <td>2021-06-05 07:17:47.547</td>\n",
       "      <td>...</td>\n",
       "      <td>NaN</td>\n",
       "      <td>NaN</td>\n",
       "      <td>NaN</td>\n",
       "      <td>NaN</td>\n",
       "      <td>NaN</td>\n",
       "      <td>NaN</td>\n",
       "      <td>NaN</td>\n",
       "      <td>NaN</td>\n",
       "      <td>NaN</td>\n",
       "      <td>NaN</td>\n",
       "    </tr>\n",
       "    <tr>\n",
       "      <th>44</th>\n",
       "      <td>20</td>\n",
       "      <td>2</td>\n",
       "      <td>0.0</td>\n",
       "      <td>2010-11-02 20:04:33.713</td>\n",
       "      <td>12</td>\n",
       "      <td>0.0</td>\n",
       "      <td>In general usage, \"sound\" refers to our percep...</td>\n",
       "      <td>42.0</td>\n",
       "      <td>NaN</td>\n",
       "      <td>NaN</td>\n",
       "      <td>...</td>\n",
       "      <td>NaN</td>\n",
       "      <td>NaN</td>\n",
       "      <td>NaN</td>\n",
       "      <td>NaN</td>\n",
       "      <td>NaN</td>\n",
       "      <td>NaN</td>\n",
       "      <td>NaN</td>\n",
       "      <td>NaN</td>\n",
       "      <td>NaN</td>\n",
       "      <td>NaN</td>\n",
       "    </tr>\n",
       "    <tr>\n",
       "      <th>49</th>\n",
       "      <td>23</td>\n",
       "      <td>2</td>\n",
       "      <td>0.0</td>\n",
       "      <td>2010-11-02 20:10:50.757</td>\n",
       "      <td>2</td>\n",
       "      <td>0.0</td>\n",
       "      <td>Sound is air molecules hitting each other, bou...</td>\n",
       "      <td>47.0</td>\n",
       "      <td>137269.0</td>\n",
       "      <td>2019-07-16 19:28:53.297</td>\n",
       "      <td>...</td>\n",
       "      <td>NaN</td>\n",
       "      <td>NaN</td>\n",
       "      <td>NaN</td>\n",
       "      <td>NaN</td>\n",
       "      <td>NaN</td>\n",
       "      <td>NaN</td>\n",
       "      <td>NaN</td>\n",
       "      <td>NaN</td>\n",
       "      <td>NaN</td>\n",
       "      <td>NaN</td>\n",
       "    </tr>\n",
       "  </tbody>\n",
       "</table>\n",
       "<p>5 rows × 46 columns</p>\n",
       "</div>"
      ],
      "text/plain": [
       "   PostId PostTypeId AcceptedAnswerId    comments.CreationDate comments.Score  \\\n",
       "11      5          2              0.0  2010-11-02 19:15:20.813             52   \n",
       "38     17          1             22.0  2010-11-02 20:00:49.790             50   \n",
       "43     19          1             45.0  2010-11-02 20:03:34.887              5   \n",
       "44     20          2              0.0  2010-11-02 20:04:33.713             12   \n",
       "49     23          2              0.0  2010-11-02 20:10:50.757              2   \n",
       "\n",
       "   ViewCount                                         posts.Body OwnerUserId  \\\n",
       "11       0.0  Spin is a technical term specifically referrin...        13.0   \n",
       "38   15144.0  Why does the sky change color? Why is the sky ...         NaN   \n",
       "43    5864.0  Physicists often refer to the energy of collis...        57.0   \n",
       "44       0.0  In general usage, \"sound\" refers to our percep...        42.0   \n",
       "49       0.0  Sound is air molecules hitting each other, bou...        47.0   \n",
       "\n",
       "   LastEditorUserId             LastEditDate  ... Location AboutMe Views  \\\n",
       "11          75633.0  2017-12-13 08:24:54.477  ...      NaN     NaN   NaN   \n",
       "38          36793.0  2017-07-21 18:56:56.237  ...      NaN     NaN   NaN   \n",
       "43         226060.0  2021-06-05 07:17:47.547  ...      NaN     NaN   NaN   \n",
       "44              NaN                      NaN  ...      NaN     NaN   NaN   \n",
       "49         137269.0  2019-07-16 19:28:53.297  ...      NaN     NaN   NaN   \n",
       "\n",
       "   UpVotes DownVotes AccountId users.Country users.SentimentLabel  \\\n",
       "11     NaN       NaN       NaN           NaN                  NaN   \n",
       "38     NaN       NaN       NaN           NaN                  NaN   \n",
       "43     NaN       NaN       NaN           NaN                  NaN   \n",
       "44     NaN       NaN       NaN           NaN                  NaN   \n",
       "49     NaN       NaN       NaN           NaN                  NaN   \n",
       "\n",
       "   users.SentimentScore SentimentValue  \n",
       "11                  NaN            NaN  \n",
       "38                  NaN            NaN  \n",
       "43                  NaN            NaN  \n",
       "44                  NaN            NaN  \n",
       "49                  NaN            NaN  \n",
       "\n",
       "[5 rows x 46 columns]"
      ]
     },
     "metadata": {},
     "output_type": "display_data"
    }
   ],
   "source": [
    "print(\"\\nExamples of posts without comments:\")\n",
    "display(posts_no_comment_df.head())"
   ]
  },
  {
   "cell_type": "code",
   "execution_count": 38,
   "id": "d8e07454",
   "metadata": {},
   "outputs": [
    {
     "name": "stdout",
     "output_type": "stream",
     "text": [
      "=== QUESTION 1 ===\n",
      "Title : What is spin as it relates to subatomic particles?\n",
      "Tags  : |quantum-mechanics|particle-physics|angular-momentum|quantum-spin|\n",
      "Body  : I often hear about subatomic particles having a property called \"spin\" but also that it doesn't actually relate to spinning about an axis like you would think. Which particles have spin? What does spin mean if not an actual spinning motion?\n",
      "\n",
      "\n",
      "-- Comments --\n",
      "  Was there something in particular you didn't understand in the wikipedia article? http://en.wikipedia.org/wiki/Spin_%28physics%29\n",
      "  The Wikipedia article doesn't really explain how spin manifests itself experimentally or how to measures it. That's something I would like to see discussed more in the answers.\n",
      "  http://abstrusegoose.com/342\n",
      "\n",
      "-- Answers --\n",
      "  Imagine going to the rest frame of a massive particle.  In this frame, there is rotational symmetry, which means that the Lie algebra of rotations acts on the wave function.  So the wave function is a vector in a representation of Lie(SO(3)) = Lie(SU(2)).  \"Spin\" is the label of precisely which representation this is.  Note that while SO(3) and SU(2) share a Lie algebra, they are different as groups, and it is a fact of life (\"the connection between spin and statistics\") that some particles -- fermions, with half-integral spin -- transform under representations of SU(2) while others -- bosons, with integral spin -- transform under SO(3).\n",
      "\n",
      "  Spin is a technical term specifically referring to intrinsic angular momentum of particles. It means a very specific thing in quantum/particle physics. (Physicists often borrow loosely related everyday words and give them a very precise physical/mathematical definition.)\n",
      "Since truly fundamental particles (e.g. electrons) are point entities, i.e. have no true size in space, it does not make sense to consider them 'spinning' in the common sense, yet they still possess their own angular momenta. Note however, that like many quantum states (fundamental variables of systems in quantum mechanics,) spin is quantised; i.e. it can only take one of a set of discrete values. Specifically, the allowed values of the spin quantum number  are non-negative multiples of 1/2. The actual spin momentum (denoted ) is a multiple of Planck's constant, and is given by .\n",
      "When it comes to composite particles (e.g. nuclei, atoms), spin is actually fairly easy to deal with. Like normal (orbital) angular momentum, it adds up linearly. Hence a proton, made of three constituent quarks, has overall spin 1/2.\n",
      "If you're curious as to how this (initially rather strange) concept of spin was discovered, I suggest reading about the Stern-Gerlach experiment of the 1920s. It was later put into the theoretical framework of quantum mechanics by Schrodinger and Pauli.\n",
      "\n",
      "  Spin is angular momentum of particles. The lowest possible spin is 1/2 h-bar.  It's impossible for any particle with angular momentum to have a lower angular momentum than this, and whatever angular momentum a particle does have must be an integer multiple of this. Consider it the angular momentum building block. It's value is 340 dB below a kilogram meter squared radian per second.\n",
      "\n",
      "  I'm trying to give a less technical answer. It's not rigorous but should give you the idea how spin and the regular rotation related.\n",
      "Maxwell's equations say in order to have magnetic field, you need a ring current.\n",
      "This can be achieved by giving angular momentum to charged particles. This can be orbital or simply because the particle is spinning. This was the original thought hence the name 'spin'.\n",
      "So in the classical picture, if you spin a tiny charged ball you'll have a spinning magnet. The axis of spinning and the north pole of the magnet pointing to the same direction.\n",
      "If you put this spinning magnet into a magnetic field. The field will apply torque on it to turn it into the direction of the field (this is how compasses work).\n",
      "But since the our magnet is spinning this torque cause the axis of spinning precess around the magnetic field.\n",
      "This means the component of the rotation axis that is parallel to the magnetic field (typically referred as the Z component) won't change while the other two components (X,Y) will circle around this axis. \n",
      "On the other hand if the magnetic field inhomogeneous there will be a net force on the particle that will move it (that's why magnets can snap and repel each other). This force is proportional to the Z component. So the axis perpendicular to the magnetic field there will be no force, if it's parallel there will be maximum force (basically a dot product). This allows us measuring the Z component of the rotation axis.\n",
      "That's the point of the Stern–Gerlach experiment. We would normally expect that particles will spin in a whole variety of random axes. So we would expect to measure random values for the Z component.\n",
      "But in reality they have measured only two possible values corresponding to the Z angular momentum component:  and  (for electrons). And not any other random values. Here the classical picture breaks down, angular momentum is also quantized. You can see spin is not the classical rotation vector. It's something you can dot multiply a vector to and you can only get two possible values. The positive component typically referred as the 'up' spin component while the negative is the 'down' spin.\n",
      "Precession renders all axes other than the one being measured uncertain. This is how uncertainty principle plays role here: if you measure the Z component first, then measure the X component, then the Z again, you get random up/down results again, because the measurement of the X components precessed the Y and Z component. Also, you cannot cheat here: you may want to use weaker magnetic field to reduce the precession, the displacement will be too weak to distinguish between the up and down spins. If you try to use timing; you cannot cheat again because if you measure the time accurately, then the energy so the precession rate becomes uncertain.\n",
      "\n",
      "  All particles have spin. Though it may be zero.\n",
      "At the most basic level, spin tells you how a particle transforms under rotations. For a spin  particle there are  states, which transform into one another when it's rotated (or when the system is rotated around it). So a spin 0 particle like the Higgs is just one state, a spin  particle like an electron has two ('up' and 'down'), a spin one particle like the  has 3, and so on.\n",
      "\n",
      "  More than ten years later, time is ripe for a more up-to-date answer.\n",
      "Let's consider the case of the electron. Other particles have non-zero spin, and the following considerations will be valid for them, too, with minor changes.\n",
      "From a formal point of view, the spin  of the electron tells us that we need more than one wave function to describe its properties. Indeed, in a classical regime (Pauli's equation), we need a two-component wavefunction, while in a relativistic regime (Dirac's equation), we need four components. This fact can be nicely re-expressed in terms of the dimensionality of the irreducible representation of the Poincaré group, but it doesn't help to build intuition about the spin.\n",
      "I find it more helpful to start from the relation between the angular momentum of an electron in an atom and the magnetic moment. We know from the solution of Schrödnger's equation for the Hydrogen atom that the magnetic dipole moment of the eigenstates is proportional to the eigenvalue  of the  component of angular momentum. We can explain the presence of a magnetic dipole with a non-zero probability density current (and then a corresponding electric density current) associated with the non-zero- wavefunctions. Therefore, the normal angular momentum is associated with wavefunctions carrying a non-zero probability density current.\n",
      "The argument can be extended to the intrinsic spin relating it to a space-independent part of the angular momentum originating from the probability current in the two-component Pauli wavefunction. Details can be found in a paper by Mita ( American Journal of Physics 68, 259 (2000); DOI: 10.1119/1.19421 ) and also in some of its references, in particular, the paper by Ohanian.\n",
      "\n"
     ]
    }
   ],
   "source": [
    "import pandas as pd\n",
    "\n",
    "# 1. Load your merged, post-centric dataset\n",
    "merged_path = \"/Users/adilshamji/Documents/25-Data-mining-lab/Data-Mining-Stackexchange/data/posts_with_comments_and_users.csv\"\n",
    "df = pd.read_csv(merged_path, dtype=str)\n",
    "\n",
    "# 2. Normalize all IDs to avoid '.0' bugs\n",
    "def normalize_id(x):\n",
    "    try:\n",
    "        return str(int(float(x)))\n",
    "    except:\n",
    "        return str(x)\n",
    "\n",
    "df[\"PostId\"] = df[\"PostId\"].apply(normalize_id)\n",
    "df[\"ParentId\"] = df[\"ParentId\"].apply(normalize_id)\n",
    "\n",
    "# 3. Separate questions (PostTypeId == \"1\"), keeping Tags\n",
    "questions = (\n",
    "    df[df[\"PostTypeId\"] == \"1\"]\n",
    "    .drop_duplicates(subset=[\"PostId\"])\n",
    "    .loc[:, [\"PostId\", \"posts.Title\", \"posts.CleanBodyNoMath\",\n",
    "             \"posts.SentimentScore\", \"posts.SentimentLabel\",\n",
    "             \"users.DisplayName\", \"users.Country\",\n",
    "             \"Tags\"]]  # <— keep tags here\n",
    ")\n",
    "\n",
    "# 4. All answer rows\n",
    "answers = df[df[\"PostTypeId\"] == \"2\"].copy()\n",
    "\n",
    "# 5. Aggregate comments per question\n",
    "comments_by_q = (\n",
    "    df[df[\"comments.Text\"].notna()]\n",
    "    .groupby(\"PostId\")[\"comments.Text\"]\n",
    "    .apply(lambda comments: list(pd.Series(comments).dropna().unique()))\n",
    "    .rename(\"question.Comments\")\n",
    ")\n",
    "\n",
    "# 6. Aggregate answer bodies per question (using normalized ParentId)\n",
    "answers_by_q = (\n",
    "    answers\n",
    "    .groupby(\"ParentId\")[\"posts.CleanBodyNoMath\"]\n",
    "    .apply(lambda bodies: list(bodies.dropna().unique()))\n",
    "    .rename(\"question.Answers\")\n",
    ")\n",
    "\n",
    "# 7. Join these aggregates onto the question frame\n",
    "q_full = questions.set_index(\"PostId\")\n",
    "q_full = q_full.join(comments_by_q, how=\"left\")\n",
    "q_full = q_full.join(answers_by_q, how=\"left\")\n",
    "\n",
    "# 8. Replace any NaN with empty lists\n",
    "q_full[\"question.Comments\"] = q_full[\"question.Comments\"].apply(lambda x: x if isinstance(x, list) else [])\n",
    "q_full[\"question.Answers\"]  = q_full[\"question.Answers\"].apply(lambda x: x if isinstance(x, list) else [])\n",
    "\n",
    "# 9. Reset index so PostId is a column again\n",
    "q_full = q_full.reset_index()\n",
    "\n",
    "# 10. Example: Find and display a question that actually has answers!\n",
    "found = False\n",
    "for idx, row in q_full.iterrows():\n",
    "    if isinstance(row[\"question.Answers\"], list) and len(row[\"question.Answers\"]) > 0:\n",
    "        print(f\"=== QUESTION {row['PostId']} ===\")\n",
    "        print(\"Title :\", row[\"posts.Title\"])\n",
    "        print(\"Tags  :\", row[\"Tags\"])\n",
    "        print(\"Body  :\", row[\"posts.CleanBodyNoMath\"])\n",
    "        print(\"\\n-- Comments --\")\n",
    "        for c in (row[\"question.Comments\"] if isinstance(row[\"question.Comments\"], list) else []):\n",
    "            print(\" \", c)\n",
    "        print(\"\\n-- Answers --\")\n",
    "        for a in row[\"question.Answers\"]:\n",
    "            print(\" \", a)\n",
    "        found = True\n",
    "        break\n",
    "if not found:\n",
    "    print(\"No question with answers found. Try investigating more PostIds.\")\n"
   ]
  },
  {
   "cell_type": "code",
   "execution_count": 43,
   "id": "671c88da",
   "metadata": {},
   "outputs": [
    {
     "name": "stdout",
     "output_type": "stream",
     "text": [
      "=== QUESTION 2 ===\n",
      "Title : What is your simplest explanation of string theory?\n",
      "Tags  : |string-theory|education|\n",
      "Body  : How would you explain string theory to non-physicists such as myself? I'm especially interested in how plausible is it and what is needed to successfully prove it?\n",
      "\n",
      "\n",
      "-- Comments --\n",
      "  I'm tempted to answer: with much difficulty, in a highly qualitative way, and only by reading a fair-sized book. There are many decent pop-sci books on string theory; I can't remember the names of any I read, but I'm sure someone can recommend one or two. \n",
      "\n",
      "  I think it's safe to say that a person won't really get anything useful out of such an explanation if he or she doesn't have some background in (quantum) field theory. \n",
      "\n",
      "  Obligatory xkcd: http://xkcd.com/171/ \n",
      "\n",
      "  Greene's book has already been mentioned, but Nova's [The Elegant Universe](http://www.pbs.org/wgbh/nova/physics/elegant-universe-einstein.html) is a somewhat informative 3-hour video series. Obviously, to truly understand the theory's progress, years of mathematics and physics must be studied, preferably at a university. \n",
      "\n",
      "\n",
      "-- Answers --\n",
      "  Some of the leaders in the field are Brian Greene and Michio Kaku.  Both have made some Sci channel or Nova series that seemed  appropriate for non-physicists.\n",
      "I haven't been following the latest in physics for a while, but I thought that M-Theory had supplanted string theory some time ago.  If so, then Kaku would be the guy.  Greene's series and book \"The Elegant Universe\" also goes into some Quantum mechanics, which might help as well.\n",
      "These are really the only two players I know of that simplify string theory.  Does anyone else have some ideas?\n",
      " \n",
      "\n",
      "  I've noticed that none of these answers actually answer the question.\n",
      "The simplest explanation of string theory I can think of:\n",
      "Particles we currently consider \"point particles\" (electrons, quarks, photons, etc.) are actually tiny pieces of string with each a characteristic vibration.  They interact in a sort of harmony that results in/manifests as the physical laws we observe.\n",
      "If anyone with more knowledge in the field can correct me, I ask for improvements.  This is just how I personally explain it to people who ask, and I'd hate to give out false information.\n",
      " \n",
      "\n",
      "  String theory is the theory of gravity which starts out by postulating that only things at the boundary of space-time make sense. The local space and time have to be reconstructed from the boundary description. This is called the holographic principle. In the 1960s, a primitive vesion of this idea was called the S-matrix principle.\n",
      "There are two kinds of boundaries, those far away from everything, called \"cosmological\" and those which are on top of matter, called \"black hole horizons\". The description of these two horizons are similar. The oscillations of these boundaries describe the entire space-time nearby.\n",
      "The detailed form of string theory begins with the postulate that there are black holes that make extended, light, 1 dimensional lines. The vibrations of these black holes then must account for all the particles in the theory, because the vibrations of a black hole encodes anything that can fall through.\n",
      " \n",
      "\n",
      "  Great question! \n",
      "Classical physics is known as the physics of the very large, objects that you can see with the eye. I can deterministically tell you exactly where something will stop, or how it will move if I have it’s velocity , and direction of travel. These things move like particles.\n",
      "Quantum physics is known as the physics of the very small, stuff smaller than atoms. We’ve discovered that when you have mass , it’s easy to make super accurate guesses of how you will move in gravity but when you barely have any mass at all, like an electron, it becomes very difficult to guess how it will move. These particles do not obey the laws that rule the world we see around us. These things have properties of waves and particles.\n",
      "There are big mathematical , and theoretical problems, when trying to put these two types of physics theories together. String theory tries to explain that if the universes smallest possible form was a string, it could satisfy being a particle, and a wave.\n",
      "String theory goes beyond what is physically provable , to mathematically supported , hence it’s usually lumped in the theoretical bucket. Like religion, however much you want to have faith in it, no one can prove or disprove it. The particles are too small to see , just like the push, and pull of a magnet, we can only feel around in the dark. We know something is going on , but not enough to say it’s definitely an apple. Only that it feels curvy. \n",
      "We need another Einstein and Newton. Big break throughs will happen, but you need a once in every several generations genius , thousands of years of scientific work, and technology we don’t have, and will not have for a long time.\n",
      "I wrote a simple intro piece on string theory , which can be found here. Referencing string theory experts\n",
      "https://mellychiem.wixsite.com/website/researched-papers\n",
      " \n",
      "\n"
     ]
    }
   ],
   "source": [
    "qid = \"2\"\n",
    "row = q_full[q_full[\"PostId\"] == qid].iloc[0]\n",
    "\n",
    "# Ensure both fields are always lists\n",
    "comments = row[\"question.Comments\"] if isinstance(row[\"question.Comments\"], list) else []\n",
    "answers  = row[\"question.Answers\"]  if isinstance(row[\"question.Answers\"],  list) else []\n",
    "\n",
    "print(f\"=== QUESTION {qid} ===\")\n",
    "print(\"Title :\", row[\"posts.Title\"])\n",
    "print(\"Tags  :\", row[\"Tags\"])\n",
    "print(\"Body  :\", row[\"posts.CleanBodyNoMath\"])\n",
    "print(\"\\n-- Comments --\")\n",
    "for c in comments:\n",
    "    print(\" \", c, \"\\n\")\n",
    "print(\"\\n-- Answers --\")\n",
    "for a in answers:\n",
    "    print(\" \", a, \"\\n\")"
   ]
  },
  {
   "cell_type": "code",
   "execution_count": 21,
   "id": "57fe2eb7",
   "metadata": {},
   "outputs": [
    {
     "name": "stdout",
     "output_type": "stream",
     "text": [
      "Available question PostIds: ['1', '2', '3', '7', '9', '13', '15', '17', '19', '21', '24', '26', '27', '29', '31', '32', '35', '37', '41', '49', '52', '62', '68', '71', '72', '73', '75', '78', '79', '83', '85', '89', '90', '93', '94', '95', '98', '100', '101', '102', '111', '115', '122', '123', '127', '129', '134', '139', '141', '142', '145', '147', '156', '159', '160', '166', '167', '168', '173', '185', '186', '191', '193', '196', '197', '198', '202', '208', '214', '217', '218', '222', '228', '234', '236', '237', '239', '252', '257', '258', '268', '270', '271', '272', '286', '290', '296', '300', '303', '304', '305', '312', '317', '321', '326', '328', '331', '335', '339', '340']\n"
     ]
    }
   ],
   "source": [
    "print(\"Available question PostIds:\", q_full[\"PostId\"].tolist()[:100])\n"
   ]
  },
  {
   "cell_type": "code",
   "execution_count": 32,
   "id": "07017df1",
   "metadata": {},
   "outputs": [],
   "source": [
    "# Find a question with at least one answer\n",
    "for idx, row in q_full.iterrows():\n",
    "    answers = row[\"question.Answers\"]\n",
    "    if isinstance(answers, list) and len(answers) > 0:\n",
    "        print(f\"Found question with PostId: {row['PostId']}\")\n",
    "        print(\"Title :\", row[\"posts.Title\"])\n",
    "        print(\"Tags  :\", row[\"Tags\"])\n",
    "        print(\"Body  :\", row[\"posts.CleanBodyNoMath\"])\n",
    "        print(\"\\n-- Comments --\")\n",
    "        comments = row[\"question.Comments\"] if isinstance(row[\"question.Comments\"], list) else []\n",
    "        for c in comments:\n",
    "            print(\" \", c)\n",
    "        print(\"\\n-- Answers --\")\n",
    "        for a in answers:\n",
    "            print(\" \", a)\n",
    "        break  # Remove this if you want to see all such questions\n"
   ]
  },
  {
   "cell_type": "code",
   "execution_count": null,
   "id": "3ac6d6f5",
   "metadata": {},
   "outputs": [
    {
     "name": "stdout",
     "output_type": "stream",
     "text": [
      "Matching ParentIds and question PostIds: 0\n",
      "Sample of ParentIds that do NOT match a question: ['591182.0', '555252.0', '635676.0', '103945.0', '418891.0', '606863.0', '598687.0', '416152.0', '159406.0', '532171.0']\n"
     ]
    }
   ],
   "source": []
  },
  {
   "cell_type": "code",
   "execution_count": null,
   "id": "93f4b9b8",
   "metadata": {},
   "outputs": [],
   "source": []
  }
 ],
 "metadata": {
  "kernelspec": {
   "display_name": "Python 3",
   "language": "python",
   "name": "python3"
  },
  "language_info": {
   "codemirror_mode": {
    "name": "ipython",
    "version": 3
   },
   "file_extension": ".py",
   "mimetype": "text/x-python",
   "name": "python",
   "nbconvert_exporter": "python",
   "pygments_lexer": "ipython3",
   "version": "3.8.6"
  }
 },
 "nbformat": 4,
 "nbformat_minor": 5
}
