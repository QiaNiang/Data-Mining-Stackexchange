{
 "cells": [
  {
   "cell_type": "code",
   "execution_count": 5,
   "id": "be451edd",
   "metadata": {},
   "outputs": [],
   "source": [
    "import pandas as pd\n",
    "import numpy as np\n",
    "from xgboost import XGBClassifier\n",
    "from sklearn.model_selection import train_test_split\n",
    "from sklearn.metrics import classification_report, roc_auc_score, confusion_matrix\n",
    "import matplotlib.pyplot as plt\n",
    "import os\n",
    "import seaborn as sns"
   ]
  },
  {
   "cell_type": "code",
   "execution_count": 6,
   "id": "9aeb91c1",
   "metadata": {},
   "outputs": [],
   "source": [
    "folder = r\"D:\\Studium\\DM-Dataset\\physics.stackexchange.com\\CSV\"\n",
    "file1 = \"posts_to_users_with_lastdate.csv\"\n",
    "path1 = os.path.join(folder, file1)\n",
    "df = pd.read_csv(path1)"
   ]
  },
  {
   "cell_type": "code",
   "execution_count": 10,
   "id": "0079d410",
   "metadata": {},
   "outputs": [],
   "source": [
    "df['CreationDate_user'] = pd.to_datetime(df['CreationDate_user'], errors='coerce')\n",
    "df['LastActivityDate'] = pd.to_datetime(df['LastActivityDate'], errors='coerce')\n",
    "# 计算真正活跃天数\n",
    "df['RealActiveDays'] = (\n",
    "    df['LastActivityDate'] - df['CreationDate_user']\n",
    ").dt.days\n",
    "\n",
    "# 去除负值或缺失值（可选）\n",
    "df = df[\n",
    "    df['RealActiveDays'].notna() & \n",
    "    (df['RealActiveDays'] >= 0)\n",
    "]"
   ]
  },
  {
   "cell_type": "code",
   "execution_count": 11,
   "id": "a8699cd3",
   "metadata": {},
   "outputs": [
    {
     "name": "stdout",
     "output_type": "stream",
     "text": [
      "<class 'pandas.core.frame.DataFrame'>\n",
      "Index: 555438 entries, 0 to 782266\n",
      "Data columns (total 42 columns):\n",
      " #   Column                 Non-Null Count   Dtype         \n",
      "---  ------                 --------------   -----         \n",
      " 0   Id_post                555438 non-null  float64       \n",
      " 1   PostTypeId             555438 non-null  float64       \n",
      " 2   AcceptedAnswerId       555438 non-null  float64       \n",
      " 3   CreationDate_post      555438 non-null  object        \n",
      " 4   Score                  555438 non-null  float64       \n",
      " 5   ViewCount              555438 non-null  float64       \n",
      " 6   Body                   555438 non-null  object        \n",
      " 7   OwnerUserId            555438 non-null  float64       \n",
      " 8   LastEditorUserId       276710 non-null  float64       \n",
      " 9   LastEditDate           281289 non-null  object        \n",
      " 10  LastActivityDate       555438 non-null  datetime64[ns]\n",
      " 11  Title                  225001 non-null  object        \n",
      " 12  Tags                   225001 non-null  object        \n",
      " 13  AnswerCount            555438 non-null  float64       \n",
      " 14  CommentCount           555438 non-null  float64       \n",
      " 15  ContentLicense         555438 non-null  object        \n",
      " 16  ParentId               329185 non-null  float64       \n",
      " 17  OwnerDisplayName       2323 non-null    object        \n",
      " 18  ClosedDate             35094 non-null   object        \n",
      " 19  LastEditorDisplayName  5077 non-null    object        \n",
      " 20  CommunityOwnedDate     6022 non-null    object        \n",
      " 21  FavoriteCount          9498 non-null    float64       \n",
      " 22  CleanBodyNoMath        555438 non-null  object        \n",
      " 23  SentimentScore         555438 non-null  float64       \n",
      " 24  SentimentLabel         555438 non-null  object        \n",
      " 25  Id_user                555438 non-null  int64         \n",
      " 26  Reputation             555438 non-null  int64         \n",
      " 27  CreationDate_user      555438 non-null  datetime64[ns]\n",
      " 28  DisplayName            555423 non-null  object        \n",
      " 29  LastAccessDate         555438 non-null  object        \n",
      " 30  WebsiteUrl             98241 non-null   object        \n",
      " 31  Location               234153 non-null  object        \n",
      " 32  AboutMe                277802 non-null  object        \n",
      " 33  Views                  555438 non-null  int64         \n",
      " 34  UpVotes                555438 non-null  int64         \n",
      " 35  DownVotes              555438 non-null  int64         \n",
      " 36  AccountId              555438 non-null  float64       \n",
      " 37  active_days            555438 non-null  int64         \n",
      " 38  LastPostDate           555438 non-null  object        \n",
      " 39  LastCommentDate        505449 non-null  object        \n",
      " 40  LastRealActivityDate   555438 non-null  object        \n",
      " 41  RealActiveDays         555438 non-null  float64       \n",
      "dtypes: datetime64[ns](2), float64(14), int64(6), object(20)\n",
      "memory usage: 182.2+ MB\n"
     ]
    }
   ],
   "source": [
    "df.info()"
   ]
  },
  {
   "cell_type": "code",
   "execution_count": 12,
   "id": "511f01d0",
   "metadata": {},
   "outputs": [
    {
     "name": "stdout",
     "output_type": "stream",
     "text": [
      "count    555438.000000\n",
      "mean        916.163799\n",
      "std        1011.086916\n",
      "min           0.000000\n",
      "25%          75.000000\n",
      "50%         548.000000\n",
      "75%        1460.000000\n",
      "90%        2464.000000\n",
      "95%        3042.000000\n",
      "99%        3954.000000\n",
      "max        4900.000000\n",
      "Name: RealActiveDays, dtype: float64\n"
     ]
    }
   ],
   "source": [
    "# 去掉 NaN 和负值（确保合法）\n",
    "df_real = df[df['RealActiveDays'].notna() & (df['RealActiveDays'] >= 0)]\n",
    "\n",
    "# 描述统计\n",
    "print(df_real['RealActiveDays'].describe(percentiles=[.25, .5, .75, .9, .95, .99]))"
   ]
  },
  {
   "cell_type": "code",
   "execution_count": 16,
   "id": "60aa5bf3",
   "metadata": {},
   "outputs": [],
   "source": [
    "# 时间字段标准化\n",
    "df['CreationDate_user'] = pd.to_datetime(df['CreationDate_user'], errors='coerce')\n",
    "df['LastActivityDate'] = pd.to_datetime(df['LastActivityDate'], errors='coerce')\n",
    "df['CreationDate_post'] = pd.to_datetime(df['CreationDate_post'], errors='coerce')\n",
    "\n",
    "# 获取每个用户活跃的起止月份（以 Period[M] 表示）\n",
    "df['StartMonth'] = df['CreationDate_user'].dt.to_period('M')\n",
    "df['EndMonth'] = df['LastActivityDate'].dt.to_period('M')"
   ]
  },
  {
   "cell_type": "code",
   "execution_count": 14,
   "id": "42ee97f4",
   "metadata": {},
   "outputs": [],
   "source": [
    "# 函数：生成一个用户的所有月份区间\n",
    "def generate_months(user_id, start, end):\n",
    "    if pd.isna(start) or pd.isna(end):\n",
    "        return []\n",
    "    months = pd.period_range(start=start, end=end, freq='M')\n",
    "    return [(user_id, m) for m in months]\n",
    "\n",
    "# 应用到所有用户\n",
    "user_month_pairs = []\n",
    "for _, row in df[['OwnerUserId', 'StartMonth', 'EndMonth']].dropna().iterrows():\n",
    "    user_month_pairs.extend(generate_months(row['OwnerUserId'], row['StartMonth'], row['EndMonth']))\n",
    "\n",
    "# 转为 DataFrame\n",
    "user_month_active = pd.DataFrame(user_month_pairs, columns=['OwnerUserId', 'YearMonth'])\n",
    "user_month_active['is_active'] = 1"
   ]
  },
  {
   "cell_type": "code",
   "execution_count": 17,
   "id": "41a3f5f5",
   "metadata": {},
   "outputs": [],
   "source": [
    "# 真实发帖数\n",
    "df['YearMonth'] = df['CreationDate_post'].dt.to_period('M')\n",
    "monthly_post_count = df.groupby(['OwnerUserId', 'YearMonth'])['Id_post'].count().reset_index()\n",
    "monthly_post_count.columns = ['OwnerUserId', 'YearMonth', 'post_count']\n",
    "\n",
    "# 合并到 user_month_active 表中\n",
    "user_month_active = user_month_active.merge(monthly_post_count, on=['OwnerUserId', 'YearMonth'], how='left')\n",
    "user_month_active['post_count'] = user_month_active['post_count'].fillna(0)"
   ]
  },
  {
   "cell_type": "code",
   "execution_count": 18,
   "id": "e4f5337d",
   "metadata": {},
   "outputs": [],
   "source": [
    "# 按用户、时间排序\n",
    "user_month_active = user_month_active.sort_values(['OwnerUserId', 'YearMonth'])\n",
    "\n",
    "# 添加滞后特征（post_count 可扩展）\n",
    "for i in range(1, 4):\n",
    "    user_month_active[f'post_count_t-{i}'] = (\n",
    "        user_month_active.groupby('OwnerUserId')['post_count'].shift(i)\n",
    "    )"
   ]
  },
  {
   "cell_type": "code",
   "execution_count": null,
   "id": "f46d418a",
   "metadata": {},
   "outputs": [],
   "source": [
    "# 排序\n",
    "user_month_active = user_month_active.sort_values(['OwnerUserId', 'YearMonth'])\n",
    "\n",
    "# 滚动拿下一个月的 is_active 值，作为 label（0 或 1）\n",
    "user_month_active['label'] = (\n",
    "    user_month_active.groupby('OwnerUserId')['is_active'].shift(-1)\n",
    ").fillna(0).astype(int)"
   ]
  },
  {
   "cell_type": "code",
   "execution_count": 21,
   "id": "8256aba2",
   "metadata": {},
   "outputs": [],
   "source": [
    "# 清理数据（要求特征 & 标签都存在）\n",
    "model_df = user_month_active.dropna(subset=[\n",
    "    'post_count_t-1', 'post_count_t-2', 'post_count_t-3', 'label'\n",
    "])\n",
    "\n",
    "# 特征和标签\n",
    "feature_cols = ['post_count_t-1', 'post_count_t-2', 'post_count_t-3']\n",
    "X = model_df[feature_cols]\n",
    "y = model_df['label'].astype(int)"
   ]
  },
  {
   "cell_type": "code",
   "execution_count": 23,
   "id": "3a9a1d36",
   "metadata": {},
   "outputs": [
    {
     "name": "stdout",
     "output_type": "stream",
     "text": [
      "label\n",
      "1.0    17187873\n",
      "NaN       92937\n",
      "Name: count, dtype: int64\n"
     ]
    }
   ],
   "source": [
    "print(user_month_active['label'].value_counts(dropna=False))"
   ]
  },
  {
   "cell_type": "code",
   "execution_count": 22,
   "id": "69abb4f5",
   "metadata": {},
   "outputs": [
    {
     "ename": "ValueError",
     "evalue": "Invalid classes inferred from unique values of `y`.  Expected: [0], got [1]",
     "output_type": "error",
     "traceback": [
      "\u001b[31m---------------------------------------------------------------------------\u001b[39m",
      "\u001b[31mValueError\u001b[39m                                Traceback (most recent call last)",
      "\u001b[36mCell\u001b[39m\u001b[36m \u001b[39m\u001b[32mIn[22]\u001b[39m\u001b[32m, line 8\u001b[39m\n\u001b[32m      5\u001b[39m X_train, X_test, y_train, y_test = train_test_split(X, y, stratify=y, random_state=\u001b[32m42\u001b[39m)\n\u001b[32m      7\u001b[39m model = XGBClassifier(use_label_encoder=\u001b[38;5;28;01mFalse\u001b[39;00m, eval_metric=\u001b[33m'\u001b[39m\u001b[33mlogloss\u001b[39m\u001b[33m'\u001b[39m)\n\u001b[32m----> \u001b[39m\u001b[32m8\u001b[39m \u001b[43mmodel\u001b[49m\u001b[43m.\u001b[49m\u001b[43mfit\u001b[49m\u001b[43m(\u001b[49m\u001b[43mX_train\u001b[49m\u001b[43m,\u001b[49m\u001b[43m \u001b[49m\u001b[43my_train\u001b[49m\u001b[43m)\u001b[49m\n\u001b[32m     10\u001b[39m y_pred = model.predict(X_test)\n\u001b[32m     11\u001b[39m y_proba = model.predict_proba(X_test)[:, \u001b[32m1\u001b[39m]\n",
      "\u001b[36mFile \u001b[39m\u001b[32m~\\AppData\\Local\\Packages\\PythonSoftwareFoundation.Python.3.11_qbz5n2kfra8p0\\LocalCache\\local-packages\\Python311\\site-packages\\xgboost\\core.py:729\u001b[39m, in \u001b[36mrequire_keyword_args.<locals>.throw_if.<locals>.inner_f\u001b[39m\u001b[34m(*args, **kwargs)\u001b[39m\n\u001b[32m    727\u001b[39m \u001b[38;5;28;01mfor\u001b[39;00m k, arg \u001b[38;5;129;01min\u001b[39;00m \u001b[38;5;28mzip\u001b[39m(sig.parameters, args):\n\u001b[32m    728\u001b[39m     kwargs[k] = arg\n\u001b[32m--> \u001b[39m\u001b[32m729\u001b[39m \u001b[38;5;28;01mreturn\u001b[39;00m \u001b[43mfunc\u001b[49m\u001b[43m(\u001b[49m\u001b[43m*\u001b[49m\u001b[43m*\u001b[49m\u001b[43mkwargs\u001b[49m\u001b[43m)\u001b[49m\n",
      "\u001b[36mFile \u001b[39m\u001b[32m~\\AppData\\Local\\Packages\\PythonSoftwareFoundation.Python.3.11_qbz5n2kfra8p0\\LocalCache\\local-packages\\Python311\\site-packages\\xgboost\\sklearn.py:1640\u001b[39m, in \u001b[36mXGBClassifier.fit\u001b[39m\u001b[34m(self, X, y, sample_weight, base_margin, eval_set, verbose, xgb_model, sample_weight_eval_set, base_margin_eval_set, feature_weights)\u001b[39m\n\u001b[32m   1635\u001b[39m     expected_classes = \u001b[38;5;28mself\u001b[39m.classes_\n\u001b[32m   1636\u001b[39m \u001b[38;5;28;01mif\u001b[39;00m (\n\u001b[32m   1637\u001b[39m     classes.shape != expected_classes.shape\n\u001b[32m   1638\u001b[39m     \u001b[38;5;129;01mor\u001b[39;00m \u001b[38;5;129;01mnot\u001b[39;00m (classes == expected_classes).all()\n\u001b[32m   1639\u001b[39m ):\n\u001b[32m-> \u001b[39m\u001b[32m1640\u001b[39m     \u001b[38;5;28;01mraise\u001b[39;00m \u001b[38;5;167;01mValueError\u001b[39;00m(\n\u001b[32m   1641\u001b[39m         \u001b[33mf\u001b[39m\u001b[33m\"\u001b[39m\u001b[33mInvalid classes inferred from unique values of `y`.  \u001b[39m\u001b[33m\"\u001b[39m\n\u001b[32m   1642\u001b[39m         \u001b[33mf\u001b[39m\u001b[33m\"\u001b[39m\u001b[33mExpected: \u001b[39m\u001b[38;5;132;01m{\u001b[39;00mexpected_classes\u001b[38;5;132;01m}\u001b[39;00m\u001b[33m, got \u001b[39m\u001b[38;5;132;01m{\u001b[39;00mclasses\u001b[38;5;132;01m}\u001b[39;00m\u001b[33m\"\u001b[39m\n\u001b[32m   1643\u001b[39m     )\n\u001b[32m   1645\u001b[39m params = \u001b[38;5;28mself\u001b[39m.get_xgb_params()\n\u001b[32m   1647\u001b[39m \u001b[38;5;28;01mif\u001b[39;00m \u001b[38;5;28mcallable\u001b[39m(\u001b[38;5;28mself\u001b[39m.objective):\n",
      "\u001b[31mValueError\u001b[39m: Invalid classes inferred from unique values of `y`.  Expected: [0], got [1]"
     ]
    }
   ],
   "source": [
    "from xgboost import XGBClassifier\n",
    "from sklearn.model_selection import train_test_split\n",
    "from sklearn.metrics import classification_report, roc_auc_score\n",
    "\n",
    "X_train, X_test, y_train, y_test = train_test_split(X, y, stratify=y, random_state=42)\n",
    "\n",
    "model = XGBClassifier(use_label_encoder=False, eval_metric='logloss')\n",
    "model.fit(X_train, y_train)\n",
    "\n",
    "y_pred = model.predict(X_test)\n",
    "y_proba = model.predict_proba(X_test)[:, 1]\n",
    "\n",
    "print(classification_report(y_test, y_pred))\n",
    "print(\"AUC:\", roc_auc_score(y_test, y_proba))"
   ]
  },
  {
   "cell_type": "code",
   "execution_count": null,
   "id": "654484e5",
   "metadata": {},
   "outputs": [],
   "source": []
  }
 ],
 "metadata": {
  "kernelspec": {
   "display_name": "Python 3",
   "language": "python",
   "name": "python3"
  },
  "language_info": {
   "codemirror_mode": {
    "name": "ipython",
    "version": 3
   },
   "file_extension": ".py",
   "mimetype": "text/x-python",
   "name": "python",
   "nbconvert_exporter": "python",
   "pygments_lexer": "ipython3",
   "version": "3.11.9"
  }
 },
 "nbformat": 4,
 "nbformat_minor": 5
}
