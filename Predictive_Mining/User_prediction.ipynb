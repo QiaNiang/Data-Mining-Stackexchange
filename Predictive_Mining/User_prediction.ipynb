{
 "cells": [
  {
   "cell_type": "code",
   "execution_count": 37,
   "id": "be451edd",
   "metadata": {},
   "outputs": [],
   "source": [
    "import pandas as pd\n",
    "import numpy as np\n",
    "from xgboost import XGBClassifier\n",
    "from sklearn.model_selection import train_test_split\n",
    "from sklearn.metrics import classification_report, roc_auc_score, confusion_matrix\n",
    "import matplotlib.pyplot as plt\n",
    "import seaborn as sns"
   ]
  },
  {
   "cell_type": "code",
   "execution_count": 38,
   "id": "9aeb91c1",
   "metadata": {},
   "outputs": [],
   "source": [
    "folder = r\"/Users/qialiang/Documents/Studium/DM_Dataset\"\n",
    "file1 = \"posts_to_users_with_lastdate.csv\"\n",
    "path1 = os.path.join(folder, file1)\n",
    "df = pd.read_csv(path1)"
   ]
  },
  {
   "cell_type": "code",
   "execution_count": 39,
   "id": "a8699cd3",
   "metadata": {},
   "outputs": [
    {
     "name": "stdout",
     "output_type": "stream",
     "text": [
      "<class 'pandas.core.frame.DataFrame'>\n",
      "RangeIndex: 555974 entries, 0 to 555973\n",
      "Data columns (total 41 columns):\n",
      " #   Column                 Non-Null Count   Dtype  \n",
      "---  ------                 --------------   -----  \n",
      " 0   Id_post                555974 non-null  float64\n",
      " 1   PostTypeId             555974 non-null  float64\n",
      " 2   AcceptedAnswerId       555974 non-null  float64\n",
      " 3   CreationDate_post      555974 non-null  object \n",
      " 4   Score                  555974 non-null  float64\n",
      " 5   ViewCount              555974 non-null  float64\n",
      " 6   Body                   555974 non-null  object \n",
      " 7   OwnerUserId            555974 non-null  float64\n",
      " 8   LastEditorUserId       276744 non-null  float64\n",
      " 9   LastEditDate           281324 non-null  object \n",
      " 10  LastActivityDate       555974 non-null  object \n",
      " 11  Title                  225083 non-null  object \n",
      " 12  Tags                   225083 non-null  object \n",
      " 13  AnswerCount            555974 non-null  float64\n",
      " 14  CommentCount           555974 non-null  float64\n",
      " 15  ContentLicense         555974 non-null  object \n",
      " 16  ParentId               329664 non-null  float64\n",
      " 17  OwnerDisplayName       2663 non-null    object \n",
      " 18  ClosedDate             35103 non-null   object \n",
      " 19  LastEditorDisplayName  5079 non-null    object \n",
      " 20  CommunityOwnedDate     6036 non-null    object \n",
      " 21  FavoriteCount          9500 non-null    float64\n",
      " 22  CleanBodyNoMath        555974 non-null  object \n",
      " 23  SentimentScore         555974 non-null  float64\n",
      " 24  SentimentLabel         555974 non-null  object \n",
      " 25  Id_user                555974 non-null  int64  \n",
      " 26  Reputation             555974 non-null  int64  \n",
      " 27  CreationDate_user      555974 non-null  object \n",
      " 28  DisplayName            555959 non-null  object \n",
      " 29  LastAccessDate         555974 non-null  object \n",
      " 30  WebsiteUrl             98430 non-null   object \n",
      " 31  Location               234379 non-null  object \n",
      " 32  AboutMe                278006 non-null  object \n",
      " 33  Views                  555974 non-null  int64  \n",
      " 34  UpVotes                555974 non-null  int64  \n",
      " 35  DownVotes              555974 non-null  int64  \n",
      " 36  AccountId              555974 non-null  float64\n",
      " 37  active_days            555974 non-null  int64  \n",
      " 38  LastPostDate           555974 non-null  object \n",
      " 39  LastCommentDate        505763 non-null  object \n",
      " 40  RealActiveDays         555974 non-null  float64\n",
      "dtypes: float64(14), int64(6), object(21)\n",
      "memory usage: 173.9+ MB\n"
     ]
    }
   ],
   "source": [
    "df.info()"
   ]
  },
  {
   "cell_type": "code",
   "execution_count": 40,
   "id": "511f01d0",
   "metadata": {},
   "outputs": [
    {
     "name": "stdout",
     "output_type": "stream",
     "text": [
      "count    555413.000000\n",
      "mean        916.090871\n",
      "std        1011.015705\n",
      "min           0.000000\n",
      "25%          75.000000\n",
      "50%         548.000000\n",
      "75%        1460.000000\n",
      "90%        2464.000000\n",
      "95%        3042.000000\n",
      "99%        3954.000000\n",
      "max        4900.000000\n",
      "Name: RealActiveDays, dtype: float64\n"
     ]
    }
   ],
   "source": [
    "# 去掉 NaN 和负值（确保合法）\n",
    "df_real = df[df['RealActiveDays'].notna() & (df['RealActiveDays'] >= 0)]\n",
    "\n",
    "# 描述统计\n",
    "print(df_real['RealActiveDays'].describe(percentiles=[.25, .5, .75, .9, .95, .99]))"
   ]
  },
  {
   "cell_type": "code",
   "execution_count": 51,
   "id": "60aa5bf3",
   "metadata": {},
   "outputs": [],
   "source": [
    "# 时间字段标准化\n",
    "df['CreationDate_user'] = pd.to_datetime(df['CreationDate_user'], errors='coerce')\n",
    "df['LastActivityDate'] = pd.to_datetime(df['LastActivityDate'], errors='coerce')\n",
    "\n",
    "# 获取每个用户活跃的起止月份（以 Period[M] 表示）\n",
    "df['StartMonth'] = df['CreationDate_user'].dt.to_period('M')\n",
    "df['EndMonth'] = df['LastActivityDate'].dt.to_period('M')"
   ]
  },
  {
   "cell_type": "code",
   "execution_count": 52,
   "id": "42ee97f4",
   "metadata": {},
   "outputs": [],
   "source": [
    "# 函数：生成一个用户的所有月份区间\n",
    "def generate_months(user_id, start, end):\n",
    "    if pd.isna(start) or pd.isna(end):\n",
    "        return []\n",
    "    months = pd.period_range(start=start, end=end, freq='M')\n",
    "    return [(user_id, m) for m in months]\n",
    "\n",
    "# 应用到所有用户\n",
    "user_month_pairs = []\n",
    "for _, row in df[['OwnerUserId', 'StartMonth', 'EndMonth']].dropna().iterrows():\n",
    "    user_month_pairs.extend(generate_months(row['OwnerUserId'], row['StartMonth'], row['EndMonth']))\n",
    "\n",
    "# 转为 DataFrame\n",
    "user_month_active = pd.DataFrame(user_month_pairs, columns=['OwnerUserId', 'YearMonth'])\n",
    "user_month_active['is_active'] = 1"
   ]
  },
  {
   "cell_type": "code",
   "execution_count": 53,
   "id": "41a3f5f5",
   "metadata": {},
   "outputs": [],
   "source": [
    "# 真实发帖数\n",
    "df['YearMonth'] = df['CreationDate_post'].dt.to_period('M')\n",
    "monthly_post_count = df.groupby(['OwnerUserId', 'YearMonth'])['Id_post'].count().reset_index()\n",
    "monthly_post_count.columns = ['OwnerUserId', 'YearMonth', 'post_count']\n",
    "\n",
    "# 合并到 user_month_active 表中\n",
    "user_month_active = user_month_active.merge(monthly_post_count, on=['OwnerUserId', 'YearMonth'], how='left')\n",
    "user_month_active['post_count'] = user_month_active['post_count'].fillna(0)"
   ]
  },
  {
   "cell_type": "code",
   "execution_count": null,
   "id": "e4f5337d",
   "metadata": {},
   "outputs": [
    {
     "ename": "",
     "evalue": "",
     "output_type": "error",
     "traceback": [
      "\u001b[1;31mThe Kernel crashed while executing code in the current cell or a previous cell. \n",
      "\u001b[1;31mPlease review the code in the cell(s) to identify a possible cause of the failure. \n",
      "\u001b[1;31mClick <a href='https://aka.ms/vscodeJupyterKernelCrash'>here</a> for more info. \n",
      "\u001b[1;31mView Jupyter <a href='command:jupyter.viewOutput'>log</a> for further details."
     ]
    }
   ],
   "source": [
    "# 按用户、时间排序\n",
    "user_month_active = user_month_active.sort_values(['OwnerUserId', 'YearMonth'])\n",
    "\n",
    "# 添加滞后特征（post_count 可扩展）\n",
    "for i in range(1, 4):\n",
    "    user_month_active[f'post_count_t-{i}'] = (\n",
    "        user_month_active.groupby('OwnerUserId')['post_count'].shift(i)\n",
    "    )"
   ]
  },
  {
   "cell_type": "code",
   "execution_count": null,
   "id": "f46d418a",
   "metadata": {},
   "outputs": [],
   "source": [
    "# 下一个月的 is_active 作为 label\n",
    "user_month_active['next_month'] = user_month_active['YearMonth'] + 1\n",
    "\n",
    "# 自连接获取下月是否还在活跃期\n",
    "user_month_active = user_month_active.merge(\n",
    "    user_month_active[['OwnerUserId', 'YearMonth', 'is_active']].rename(columns={\n",
    "        'YearMonth': 'next_month',\n",
    "        'is_active': 'label'\n",
    "    }),\n",
    "    on=['OwnerUserId', 'next_month'],\n",
    "    how='left'\n",
    ")\n",
    "\n",
    "# 填补 label（NaN 表示生命周期终止 → label=0）\n",
    "user_month_active['label'] = user_month_active['label'].fillna(0).astype(int)"
   ]
  },
  {
   "cell_type": "code",
   "execution_count": null,
   "id": "8256aba2",
   "metadata": {},
   "outputs": [],
   "source": [
    "# 只保留特征齐全的样本\n",
    "model_df = user_month_active.dropna(subset=['post_count_t-1', 'post_count_t-2', 'post_count_t-3'])\n",
    "\n",
    "# 特征和标签\n",
    "feature_cols = ['post_count_t-1', 'post_count_t-2', 'post_count_t-3']\n",
    "X = model_df[feature_cols]\n",
    "y = model_df['label']"
   ]
  },
  {
   "cell_type": "code",
   "execution_count": null,
   "id": "771b646d",
   "metadata": {},
   "outputs": [],
   "source": [
    "from xgboost import XGBClassifier\n",
    "from sklearn.model_selection import train_test_split\n",
    "from sklearn.metrics import classification_report, roc_auc_score\n",
    "\n",
    "# 划分训练集与测试集\n",
    "X_train, X_test, y_train, y_test = train_test_split(X, y, stratify=y, random_state=42)\n",
    "\n",
    "# 模型训练\n",
    "model = XGBClassifier(use_label_encoder=False, eval_metric='logloss')\n",
    "model.fit(X_train, y_train)\n",
    "\n",
    "# 预测\n",
    "y_pred = model.predict(X_test)\n",
    "y_proba = model.predict_proba(X_test)[:, 1]\n",
    "\n",
    "# 评估\n",
    "print(classification_report(y_test, y_pred))\n",
    "print(\"AUC:\", roc_auc_score(y_test, y_proba))"
   ]
  },
  {
   "cell_type": "code",
   "execution_count": null,
   "id": "69abb4f5",
   "metadata": {},
   "outputs": [],
   "source": []
  }
 ],
 "metadata": {
  "kernelspec": {
   "display_name": "Datamining",
   "language": "python",
   "name": "python3"
  },
  "language_info": {
   "codemirror_mode": {
    "name": "ipython",
    "version": 3
   },
   "file_extension": ".py",
   "mimetype": "text/x-python",
   "name": "python",
   "nbconvert_exporter": "python",
   "pygments_lexer": "ipython3",
   "version": "3.10.16"
  }
 },
 "nbformat": 4,
 "nbformat_minor": 5
}
