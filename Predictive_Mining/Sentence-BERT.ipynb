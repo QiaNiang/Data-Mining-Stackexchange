{
 "cells": [
  {
   "cell_type": "code",
   "execution_count": 1,
   "id": "5c35bbf6",
   "metadata": {},
   "outputs": [
    {
     "name": "stderr",
     "output_type": "stream",
     "text": [
      "C:\\Users\\jiali\\AppData\\Local\\Packages\\PythonSoftwareFoundation.Python.3.11_qbz5n2kfra8p0\\LocalCache\\local-packages\\Python311\\site-packages\\tqdm\\auto.py:21: TqdmWarning: IProgress not found. Please update jupyter and ipywidgets. See https://ipywidgets.readthedocs.io/en/stable/user_install.html\n",
      "  from .autonotebook import tqdm as notebook_tqdm\n"
     ]
    },
    {
     "name": "stdout",
     "output_type": "stream",
     "text": [
      "Using device: cuda\n"
     ]
    }
   ],
   "source": [
    "import pandas as pd\n",
    "import re\n",
    "from pathlib import Path\n",
    "from keybert import KeyBERT\n",
    "from bs4 import BeautifulSoup\n",
    "from sklearn.feature_extraction.text import ENGLISH_STOP_WORDS\n",
    "from sentence_transformers import SentenceTransformer, util\n",
    "from bert_score import score as bertscore\n",
    "import torch\n",
    "import os\n",
    "from tqdm import tqdm\n",
    "tqdm.pandas() \n",
    "\n",
    "# ✅ 1. 设置设备\n",
    "device = \"cuda\" if torch.cuda.is_available() else \"cpu\"\n",
    "print(f\"Using device: {device}\")\n"
   ]
  },
  {
   "cell_type": "code",
   "execution_count": 2,
   "id": "06711479",
   "metadata": {},
   "outputs": [],
   "source": [
    "# ✅ 2. 加载轻量语义嵌入模型到 GPU\n",
    "embedder = SentenceTransformer('all-MiniLM-L6-v2', device=device)\n",
    "\n",
    "# ✅ 3. 读取数据\n",
    "csv_folder_physics = r\"C:\\Users\\jiali\\OneDrive - TUM\\Studium\\Data-Mining\\physics.stackexchange.com\\CSV\"\n",
    "csv_folder_literature = r\"D:\\Studium\\DM-Dataset\\literature.stackexchange.com\\Literature_CSV_raw\"\n",
    "csv_folder_math = r\"D:\\Studium\\DM-Dataset\\math.stackexchange.com\\CSV\"\n",
    "\n",
    "csv_path = os.path.join(csv_folder_literature, \"Posts.csv\")\n",
    "df = pd.read_csv(csv_path, usecols=[\"Id\", \"Title\", \"Body\", \"Tags\", \"PostTypeId\"])\n",
    "df = df[df[\"PostTypeId\"] == 1].dropna(subset=[\"Body\", \"Tags\"]).reset_index(drop=True)\n",
    " "
   ]
  },
  {
   "cell_type": "code",
   "execution_count": 3,
   "id": "7faa7bcd",
   "metadata": {},
   "outputs": [],
   "source": [
    "# ✅ 4. 文本清洗\n",
    "def clean_text(text):\n",
    "    text = BeautifulSoup(text, \"html.parser\").get_text()\n",
    "    text = re.sub(r\"[^\\w\\s]\", \" \", text.lower())\n",
    "    words = [w for w in text.split() if w not in ENGLISH_STOP_WORDS]\n",
    "    return \" \".join(words)\n",
    "\n",
    "df[\"CleanText\"] = (df[\"Title\"] + \" \" + df[\"Body\"]).apply(clean_text)"
   ]
  },
  {
   "cell_type": "code",
   "execution_count": 4,
   "id": "4943099a",
   "metadata": {},
   "outputs": [],
   "source": [
    "# ✅ 5. 初始化 KeyBERT（内部使用 SentenceTransformer，已在 GPU 上）\n",
    "kw_model = KeyBERT(model=embedder)"
   ]
  },
  {
   "cell_type": "code",
   "execution_count": 5,
   "id": "fadd8cd5",
   "metadata": {},
   "outputs": [
    {
     "name": "stderr",
     "output_type": "stream",
     "text": [
      "100%|██████████| 6780/6780 [05:36<00:00, 20.14it/s]\n"
     ]
    }
   ],
   "source": [
    "# ✅ 6. 提取关键词\n",
    "def extract_keywords(text):\n",
    "    keywords = kw_model.extract_keywords(text, keyphrase_ngram_range=(1, 2), stop_words='english', top_n=10)\n",
    "    return [kw for kw, _ in keywords]\n",
    "\n",
    "df[\"Keywords\"] = df[\"CleanText\"].progress_apply(extract_keywords)"
   ]
  },
  {
   "cell_type": "code",
   "execution_count": 6,
   "id": "c052d642",
   "metadata": {},
   "outputs": [
    {
     "name": "stderr",
     "output_type": "stream",
     "text": [
      "100%|██████████| 6780/6780 [00:00<00:00, 483991.10it/s]\n"
     ]
    }
   ],
   "source": [
    "# ✅ 7. 标签清洗\n",
    "def extract_tags(tag_str):\n",
    "    return [tag.strip().lower().replace(\"-\", \" \") for tag in tag_str.strip(\"|\").split(\"|\") if tag]\n",
    "\n",
    "df[\"TagList\"] = df[\"Tags\"].progress_apply(extract_tags)"
   ]
  },
  {
   "cell_type": "code",
   "execution_count": 7,
   "id": "c8f27828",
   "metadata": {},
   "outputs": [
    {
     "name": "stderr",
     "output_type": "stream",
     "text": [
      "Some weights of RobertaModel were not initialized from the model checkpoint at roberta-large and are newly initialized: ['pooler.dense.bias', 'pooler.dense.weight']\n",
      "You should probably TRAIN this model on a down-stream task to be able to use it for predictions and inference.\n"
     ]
    },
    {
     "name": "stdout",
     "output_type": "stream",
     "text": [
      "calculating scores...\n",
      "computing bert embedding.\n"
     ]
    },
    {
     "name": "stderr",
     "output_type": "stream",
     "text": [
      "100%|██████████| 171/171 [00:25<00:00,  6.60it/s]\n"
     ]
    },
    {
     "name": "stdout",
     "output_type": "stream",
     "text": [
      "computing greedy matching.\n"
     ]
    },
    {
     "name": "stderr",
     "output_type": "stream",
     "text": [
      "100%|██████████| 106/106 [00:01<00:00, 59.05it/s]"
     ]
    },
    {
     "name": "stdout",
     "output_type": "stream",
     "text": [
      "done in 27.73 seconds, 244.48 sentences/sec\n"
     ]
    },
    {
     "name": "stderr",
     "output_type": "stream",
     "text": [
      "\n"
     ]
    }
   ],
   "source": [
    "from bert_score import score as bertscore\n",
    "\n",
    "# ✅ 1. 拼接关键词和标签列表为句子\n",
    "candidates = df[\"Keywords\"].apply(lambda kws: \" \".join(kws)).tolist()   # 关键词作为候选\n",
    "references = df[\"TagList\"].apply(lambda tags: \" \".join(tags)).tolist()  # 标签作为参考\n",
    "\n",
    "# ✅ 2. 一次性计算所有样本的 BERTScore（推荐开启 GPU）\n",
    "P, R, F1 = bertscore(\n",
    "    candidates,\n",
    "    references,\n",
    "    lang=\"en\",\n",
    "    device=\"cuda\",        # 或 device=\"mps\"（Mac）/ \"cpu\"\n",
    "    batch_size=64,        # 可视 GPU 内存调整\n",
    "    verbose=True\n",
    ")\n",
    "\n",
    "# ✅ 3. 写入结果到 DataFrame\n",
    "df[\"BERT_Precision\"] = P\n",
    "df[\"BERT_Recall\"]    = R\n",
    "df[\"BERT_F1\"]        = F1"
   ]
  },
  {
   "cell_type": "code",
   "execution_count": 8,
   "id": "6fb63333",
   "metadata": {},
   "outputs": [
    {
     "name": "stderr",
     "output_type": "stream",
     "text": [
      "100%|██████████| 6780/6780 [02:13<00:00, 50.97it/s]\n"
     ]
    }
   ],
   "source": [
    "# ✅ 9. 嵌入向量相似度（cosine）匹配（加速）\n",
    "def cosine_match_ratio(keywords, tags, threshold=0.6):\n",
    "    if not keywords or not tags:\n",
    "        return 0.0, []\n",
    "    kw_emb = embedder.encode(keywords, convert_to_tensor=True, device=device, batch_size=32)\n",
    "    tag_emb = embedder.encode(tags,     convert_to_tensor=True, device=device)\n",
    "    cos = util.cos_sim(kw_emb, tag_emb)\n",
    "    matched = [kw for i, kw in enumerate(keywords) if max(cos[i]).item() >= threshold]\n",
    "    return len(matched) / max(len(keywords), 1), matched\n",
    "\n",
    "df[[\"MatchRatio\", \"MatchedKeywords\"]] = df.progress_apply(\n",
    "    lambda r: pd.Series(cosine_match_ratio(r[\"Keywords\"], r[\"TagList\"])), axis=1\n",
    ")"
   ]
  },
  {
   "cell_type": "code",
   "execution_count": 9,
   "id": "9b1eee3f",
   "metadata": {},
   "outputs": [
    {
     "name": "stderr",
     "output_type": "stream",
     "text": [
      "100%|██████████| 6780/6780 [00:00<00:00, 9112.90it/s] \n"
     ]
    }
   ],
   "source": [
    "# ✅ 10. 标记可疑标签\n",
    "df[\"PotentialTagIssue\"] = df[\"MatchRatio\"] < 0.2\n",
    "\n",
    "# ✅ 11. 精准率 / 召回率 / F1\n",
    "def compute_prf1(row):\n",
    "    keywords_set = set(row[\"Keywords\"])\n",
    "    tags_set = set(row[\"TagList\"])\n",
    "    matched_set = set(row[\"MatchedKeywords\"])\n",
    "\n",
    "    tp = len(matched_set)\n",
    "    fp = len(keywords_set - matched_set)\n",
    "    fn = len(tags_set - matched_set)\n",
    "\n",
    "    precision = tp / (tp + fp) if (tp + fp) > 0 else 0.0\n",
    "    recall = tp / (tp + fn) if (tp + fn) > 0 else 0.0\n",
    "    f1 = 2 * precision * recall / (precision + recall) if (precision + recall) > 0 else 0.0\n",
    "    return pd.Series([precision, recall, f1])\n",
    "\n",
    "df[[\"Precision\", \"Recall\", \"F1\"]] = df.progress_apply(compute_prf1, axis=1)"
   ]
  },
  {
   "cell_type": "code",
   "execution_count": 10,
   "id": "ba1bcac2",
   "metadata": {},
   "outputs": [
    {
     "name": "stdout",
     "output_type": "stream",
     "text": [
      "Average MatchRatio: 0.27\n",
      "Average Precision: 0.27\n",
      "Average Recall: 0.37\n",
      "Average F1-score: 0.30\n",
      "Average BERTScore-P:  0.79\n",
      "Average BERTScore-R:  0.83\n",
      "Average BERTScore-F1: 0.81\n",
      "    Id                                              Title  \\\n",
      "2    3                    Why does Mr. Poe cough so much?   \n",
      "3    4   In Brave New World, what caste is Lenina Crowne?   \n",
      "12  18  How did Madeline Usher survive without food or...   \n",
      "13  21               Why was The Call of the Wild banned?   \n",
      "20  43  Is this hypothesis about the significance of t...   \n",
      "\n",
      "                                              TagList  \\\n",
      "2   [character analysis, lemony snicket, a series ...   \n",
      "3   [character analysis, aldous huxley, brave new ...   \n",
      "12                   [edgar allan poe, short stories]   \n",
      "13    [censorship, jack london, the call of the wild]   \n",
      "20  [name significance, patrick rothfuss, the king...   \n",
      "\n",
      "                                             Keywords       MatchedKeywords  \\\n",
      "2   [poe cough, poe portrayed, arthur poe, cough b...  [series unfortunate]   \n",
      "3   [lenina caste, caste lenina, world caste, cast...                    []   \n",
      "12  [madeline usher, usher madeline, usher survive...                    []   \n",
      "13  [banning classics, banned book, book banned, b...             [banning]   \n",
      "20  [addiction denna, denna addictive, textual den...                    []   \n",
      "\n",
      "    MatchRatio  \n",
      "2          0.1  \n",
      "3          0.0  \n",
      "12         0.0  \n",
      "13         0.1  \n",
      "20         0.0  \n"
     ]
    }
   ],
   "source": [
    "# ✅ 12. 平均指标\n",
    "print(f\"Average MatchRatio: {df['MatchRatio'].mean():.2f}\")\n",
    "print(f\"Average Precision: {df['Precision'].mean():.2f}\")\n",
    "print(f\"Average Recall: {df['Recall'].mean():.2f}\")\n",
    "print(f\"Average F1-score: {df['F1'].mean():.2f}\")\n",
    "print(f\"Average BERTScore-P:  {df['BERT_Precision'].mean():.2f}\")\n",
    "print(f\"Average BERTScore-R:  {df['BERT_Recall'].mean():.2f}\")\n",
    "print(f\"Average BERTScore-F1: {df['BERT_F1'].mean():.2f}\")\n",
    "\n",
    "# ✅ 13. 打印前几条可疑标签结果\n",
    "print(df[df[\"PotentialTagIssue\"]][[\"Id\", \"Title\", \"TagList\", \"Keywords\", \"MatchedKeywords\", \"MatchRatio\"]].head(5))"
   ]
  },
  {
   "cell_type": "code",
   "execution_count": 11,
   "id": "bccf6143",
   "metadata": {},
   "outputs": [
    {
     "data": {
      "application/vnd.microsoft.datawrangler.viewer.v0+json": {
       "columns": [
        {
         "name": "index",
         "rawType": "int64",
         "type": "integer"
        },
        {
         "name": "Id",
         "rawType": "int64",
         "type": "integer"
        },
        {
         "name": "Title",
         "rawType": "object",
         "type": "string"
        },
        {
         "name": "TagList",
         "rawType": "object",
         "type": "unknown"
        },
        {
         "name": "Keywords",
         "rawType": "object",
         "type": "unknown"
        },
        {
         "name": "MatchedKeywords",
         "rawType": "object",
         "type": "unknown"
        },
        {
         "name": "MatchRatio",
         "rawType": "float64",
         "type": "float"
        }
       ],
       "ref": "5dca0808-fa17-4b22-810e-28538207142f",
       "rows": [
        [
         "2",
         "3",
         "Why does Mr. Poe cough so much?",
         "['character analysis', 'lemony snicket', 'a series of unfortunate events']",
         "['poe cough', 'poe portrayed', 'arthur poe', 'cough books', 'mr poe', 'poe', 'explained cough', 'series unfortunate', 'consistent cough', 'character arthur']",
         "['series unfortunate']",
         "0.1"
        ],
        [
         "3",
         "4",
         "In Brave New World, what caste is Lenina Crowne?",
         "['character analysis', 'aldous huxley', 'brave new world']",
         "['lenina caste', 'caste lenina', 'world caste', 'caste caste', 'different caste', 'caste proof', 'caste', 'caste explicitly', 'lenina', 'extensive caste']",
         "[]",
         "0.0"
        ],
        [
         "12",
         "18",
         "How did Madeline Usher survive without food or water?",
         "['edgar allan poe', 'short stories']",
         "['madeline usher', 'usher madeline', 'usher survive', 'usher vault', 'house usher', 'did madeline', 'usher', 'food water', 'water coffin', 'survive food']",
         "[]",
         "0.0"
        ],
        [
         "13",
         "21",
         "Why was The Call of the Wild banned?",
         "['censorship', 'jack london', 'the call of the wild']",
         "['banning classics', 'banned book', 'book banned', 'banned periodically', 'given banning', 'banning', 'wild banned', 'banned burned', 'banned italy', 'controversial ala']",
         "['banning']",
         "0.1"
        ],
        [
         "20",
         "43",
         "Is this hypothesis about the significance of the name \"Denna\" in the Kingkiller Chronicle supported by the text?",
         "['name significance', 'patrick rothfuss', 'the kingkiller chronicle']",
         "['addiction denna', 'denna addictive', 'textual denna', 'addictive properties', 'significance denna', 'chronicle denna', 'denna kingkiller', 'personifying addiction', 'wealth denna', 'addiction']",
         "[]",
         "0.0"
        ]
       ],
       "shape": {
        "columns": 6,
        "rows": 5
       }
      },
      "text/html": [
       "<div>\n",
       "<style scoped>\n",
       "    .dataframe tbody tr th:only-of-type {\n",
       "        vertical-align: middle;\n",
       "    }\n",
       "\n",
       "    .dataframe tbody tr th {\n",
       "        vertical-align: top;\n",
       "    }\n",
       "\n",
       "    .dataframe thead th {\n",
       "        text-align: right;\n",
       "    }\n",
       "</style>\n",
       "<table border=\"1\" class=\"dataframe\">\n",
       "  <thead>\n",
       "    <tr style=\"text-align: right;\">\n",
       "      <th></th>\n",
       "      <th>Id</th>\n",
       "      <th>Title</th>\n",
       "      <th>TagList</th>\n",
       "      <th>Keywords</th>\n",
       "      <th>MatchedKeywords</th>\n",
       "      <th>MatchRatio</th>\n",
       "    </tr>\n",
       "  </thead>\n",
       "  <tbody>\n",
       "    <tr>\n",
       "      <th>2</th>\n",
       "      <td>3</td>\n",
       "      <td>Why does Mr. Poe cough so much?</td>\n",
       "      <td>[character analysis, lemony snicket, a series ...</td>\n",
       "      <td>[poe cough, poe portrayed, arthur poe, cough b...</td>\n",
       "      <td>[series unfortunate]</td>\n",
       "      <td>0.1</td>\n",
       "    </tr>\n",
       "    <tr>\n",
       "      <th>3</th>\n",
       "      <td>4</td>\n",
       "      <td>In Brave New World, what caste is Lenina Crowne?</td>\n",
       "      <td>[character analysis, aldous huxley, brave new ...</td>\n",
       "      <td>[lenina caste, caste lenina, world caste, cast...</td>\n",
       "      <td>[]</td>\n",
       "      <td>0.0</td>\n",
       "    </tr>\n",
       "    <tr>\n",
       "      <th>12</th>\n",
       "      <td>18</td>\n",
       "      <td>How did Madeline Usher survive without food or...</td>\n",
       "      <td>[edgar allan poe, short stories]</td>\n",
       "      <td>[madeline usher, usher madeline, usher survive...</td>\n",
       "      <td>[]</td>\n",
       "      <td>0.0</td>\n",
       "    </tr>\n",
       "    <tr>\n",
       "      <th>13</th>\n",
       "      <td>21</td>\n",
       "      <td>Why was The Call of the Wild banned?</td>\n",
       "      <td>[censorship, jack london, the call of the wild]</td>\n",
       "      <td>[banning classics, banned book, book banned, b...</td>\n",
       "      <td>[banning]</td>\n",
       "      <td>0.1</td>\n",
       "    </tr>\n",
       "    <tr>\n",
       "      <th>20</th>\n",
       "      <td>43</td>\n",
       "      <td>Is this hypothesis about the significance of t...</td>\n",
       "      <td>[name significance, patrick rothfuss, the king...</td>\n",
       "      <td>[addiction denna, denna addictive, textual den...</td>\n",
       "      <td>[]</td>\n",
       "      <td>0.0</td>\n",
       "    </tr>\n",
       "  </tbody>\n",
       "</table>\n",
       "</div>"
      ],
      "text/plain": [
       "    Id                                              Title  \\\n",
       "2    3                    Why does Mr. Poe cough so much?   \n",
       "3    4   In Brave New World, what caste is Lenina Crowne?   \n",
       "12  18  How did Madeline Usher survive without food or...   \n",
       "13  21               Why was The Call of the Wild banned?   \n",
       "20  43  Is this hypothesis about the significance of t...   \n",
       "\n",
       "                                              TagList  \\\n",
       "2   [character analysis, lemony snicket, a series ...   \n",
       "3   [character analysis, aldous huxley, brave new ...   \n",
       "12                   [edgar allan poe, short stories]   \n",
       "13    [censorship, jack london, the call of the wild]   \n",
       "20  [name significance, patrick rothfuss, the king...   \n",
       "\n",
       "                                             Keywords       MatchedKeywords  \\\n",
       "2   [poe cough, poe portrayed, arthur poe, cough b...  [series unfortunate]   \n",
       "3   [lenina caste, caste lenina, world caste, cast...                    []   \n",
       "12  [madeline usher, usher madeline, usher survive...                    []   \n",
       "13  [banning classics, banned book, book banned, b...             [banning]   \n",
       "20  [addiction denna, denna addictive, textual den...                    []   \n",
       "\n",
       "    MatchRatio  \n",
       "2          0.1  \n",
       "3          0.0  \n",
       "12         0.0  \n",
       "13         0.1  \n",
       "20         0.0  "
      ]
     },
     "execution_count": 11,
     "metadata": {},
     "output_type": "execute_result"
    }
   ],
   "source": [
    "df[df[\"PotentialTagIssue\"]][[\"Id\", \"Title\", \"TagList\", \"Keywords\", \"MatchedKeywords\", \"MatchRatio\"]].head(5)"
   ]
  },
  {
   "cell_type": "code",
   "execution_count": 12,
   "id": "151a0306",
   "metadata": {},
   "outputs": [],
   "source": [
    "df[\"PerfectTags\"] = df[\"MatchRatio\"] > 0.9"
   ]
  },
  {
   "cell_type": "code",
   "execution_count": 13,
   "id": "77da70f2",
   "metadata": {},
   "outputs": [
    {
     "data": {
      "application/vnd.microsoft.datawrangler.viewer.v0+json": {
       "columns": [
        {
         "name": "index",
         "rawType": "int64",
         "type": "integer"
        },
        {
         "name": "Id",
         "rawType": "int64",
         "type": "integer"
        },
        {
         "name": "Title",
         "rawType": "object",
         "type": "string"
        },
        {
         "name": "TagList",
         "rawType": "object",
         "type": "unknown"
        },
        {
         "name": "Keywords",
         "rawType": "object",
         "type": "unknown"
        },
        {
         "name": "MatchedKeywords",
         "rawType": "object",
         "type": "unknown"
        },
        {
         "name": "MatchRatio",
         "rawType": "float64",
         "type": "float"
        }
       ],
       "ref": "a62d2870-d7f2-48bc-876b-0ef71c628bef",
       "rows": [
        [
         "14",
         "22",
         "How did the Strugatsky Brothers' experience with Soviet literary publishing censorship reflect on their books?",
         "['censorship', 'russian language', 'strugatsky brothers']",
         "['publishing censorship', 'censorship experience', 'censorship reflect', 'censorship', 'question censorship', 'soviet literary', 'strugatsky brothers', 'did strugatsky', 'affected censors', 'censors']",
         "['publishing censorship', 'censorship experience', 'censorship reflect', 'censorship', 'question censorship', 'soviet literary', 'strugatsky brothers', 'did strugatsky', 'affected censors', 'censors']",
         "1.0"
        ],
        [
         "16",
         "24",
         "Did J. K. Rowling base platform 9 3/4 on the Gump?",
         "['harry potter', 'j k rowling', 'inspiration', 'the secret of platform 13', 'eva ibbotson']",
         "['rowling base', 'potter gump', 'potter series', 'potter', 'rowling book', 'series rowling', 'harry potter', 'rowling', 'did rowling', 'series harry']",
         "['rowling base', 'potter gump', 'potter series', 'potter', 'rowling book', 'series rowling', 'harry potter', 'rowling', 'did rowling', 'series harry']",
         "1.0"
        ],
        [
         "17",
         "25",
         "In Foucault's Pendulum, by what method does the translation choose to keep or translate Italian?",
         "['translation', 'italian language', 'foucalts pendulum', 'umberto eco']",
         "['translate italian', 'italian foucault', 'italian book', 'pendulum umberto', 'written italian', 'foucault pendulum', 'does translation', 'book translated', 'choose translate', 'translation choose']",
         "['translate italian', 'italian foucault', 'italian book', 'pendulum umberto', 'written italian', 'foucault pendulum', 'does translation', 'book translated', 'choose translate', 'translation choose']",
         "1.0"
        ],
        [
         "74",
         "178",
         "How many of Shakespeare's words in his plays were new?",
         "['william shakespeare', 'word coinage']",
         "['words shakespeare', 'shakespeare words', 'word shakespeare', 'shakespeare coined', 'coined shakespeare', 'shakespeare invented', 'invented shakespeare', 'informed shakespeare', 'william shakespeare', 'shakespeare fact']",
         "['words shakespeare', 'shakespeare words', 'word shakespeare', 'shakespeare coined', 'coined shakespeare', 'shakespeare invented', 'invented shakespeare', 'informed shakespeare', 'william shakespeare', 'shakespeare fact']",
         "1.0"
        ],
        [
         "87",
         "228",
         "Was Isidora's fate in Melmoth the Wanderer directly inspired by Faust?",
         "['inspiration', 'allusions', 'faust', 'charles robert maturin', 'melmoth the wanderer']",
         "['faustian tale', 'inspired faust', 'melmoth faust', 'tale faustian', 'faust', 'goethe faust', 'faust especially', 'faust particular', 'faustian', 'faustian legend']",
         "['faustian tale', 'inspired faust', 'melmoth faust', 'tale faustian', 'faust', 'goethe faust', 'faust especially', 'faust particular', 'faustian', 'faustian legend']",
         "1.0"
        ]
       ],
       "shape": {
        "columns": 6,
        "rows": 5
       }
      },
      "text/html": [
       "<div>\n",
       "<style scoped>\n",
       "    .dataframe tbody tr th:only-of-type {\n",
       "        vertical-align: middle;\n",
       "    }\n",
       "\n",
       "    .dataframe tbody tr th {\n",
       "        vertical-align: top;\n",
       "    }\n",
       "\n",
       "    .dataframe thead th {\n",
       "        text-align: right;\n",
       "    }\n",
       "</style>\n",
       "<table border=\"1\" class=\"dataframe\">\n",
       "  <thead>\n",
       "    <tr style=\"text-align: right;\">\n",
       "      <th></th>\n",
       "      <th>Id</th>\n",
       "      <th>Title</th>\n",
       "      <th>TagList</th>\n",
       "      <th>Keywords</th>\n",
       "      <th>MatchedKeywords</th>\n",
       "      <th>MatchRatio</th>\n",
       "    </tr>\n",
       "  </thead>\n",
       "  <tbody>\n",
       "    <tr>\n",
       "      <th>14</th>\n",
       "      <td>22</td>\n",
       "      <td>How did the Strugatsky Brothers' experience wi...</td>\n",
       "      <td>[censorship, russian language, strugatsky brot...</td>\n",
       "      <td>[publishing censorship, censorship experience,...</td>\n",
       "      <td>[publishing censorship, censorship experience,...</td>\n",
       "      <td>1.0</td>\n",
       "    </tr>\n",
       "    <tr>\n",
       "      <th>16</th>\n",
       "      <td>24</td>\n",
       "      <td>Did J. K. Rowling base platform 9 3/4 on the G...</td>\n",
       "      <td>[harry potter, j k rowling, inspiration, the s...</td>\n",
       "      <td>[rowling base, potter gump, potter series, pot...</td>\n",
       "      <td>[rowling base, potter gump, potter series, pot...</td>\n",
       "      <td>1.0</td>\n",
       "    </tr>\n",
       "    <tr>\n",
       "      <th>17</th>\n",
       "      <td>25</td>\n",
       "      <td>In Foucault's Pendulum, by what method does th...</td>\n",
       "      <td>[translation, italian language, foucalts pendu...</td>\n",
       "      <td>[translate italian, italian foucault, italian ...</td>\n",
       "      <td>[translate italian, italian foucault, italian ...</td>\n",
       "      <td>1.0</td>\n",
       "    </tr>\n",
       "    <tr>\n",
       "      <th>74</th>\n",
       "      <td>178</td>\n",
       "      <td>How many of Shakespeare's words in his plays w...</td>\n",
       "      <td>[william shakespeare, word coinage]</td>\n",
       "      <td>[words shakespeare, shakespeare words, word sh...</td>\n",
       "      <td>[words shakespeare, shakespeare words, word sh...</td>\n",
       "      <td>1.0</td>\n",
       "    </tr>\n",
       "    <tr>\n",
       "      <th>87</th>\n",
       "      <td>228</td>\n",
       "      <td>Was Isidora's fate in Melmoth the Wanderer dir...</td>\n",
       "      <td>[inspiration, allusions, faust, charles robert...</td>\n",
       "      <td>[faustian tale, inspired faust, melmoth faust,...</td>\n",
       "      <td>[faustian tale, inspired faust, melmoth faust,...</td>\n",
       "      <td>1.0</td>\n",
       "    </tr>\n",
       "  </tbody>\n",
       "</table>\n",
       "</div>"
      ],
      "text/plain": [
       "     Id                                              Title  \\\n",
       "14   22  How did the Strugatsky Brothers' experience wi...   \n",
       "16   24  Did J. K. Rowling base platform 9 3/4 on the G...   \n",
       "17   25  In Foucault's Pendulum, by what method does th...   \n",
       "74  178  How many of Shakespeare's words in his plays w...   \n",
       "87  228  Was Isidora's fate in Melmoth the Wanderer dir...   \n",
       "\n",
       "                                              TagList  \\\n",
       "14  [censorship, russian language, strugatsky brot...   \n",
       "16  [harry potter, j k rowling, inspiration, the s...   \n",
       "17  [translation, italian language, foucalts pendu...   \n",
       "74                [william shakespeare, word coinage]   \n",
       "87  [inspiration, allusions, faust, charles robert...   \n",
       "\n",
       "                                             Keywords  \\\n",
       "14  [publishing censorship, censorship experience,...   \n",
       "16  [rowling base, potter gump, potter series, pot...   \n",
       "17  [translate italian, italian foucault, italian ...   \n",
       "74  [words shakespeare, shakespeare words, word sh...   \n",
       "87  [faustian tale, inspired faust, melmoth faust,...   \n",
       "\n",
       "                                      MatchedKeywords  MatchRatio  \n",
       "14  [publishing censorship, censorship experience,...         1.0  \n",
       "16  [rowling base, potter gump, potter series, pot...         1.0  \n",
       "17  [translate italian, italian foucault, italian ...         1.0  \n",
       "74  [words shakespeare, shakespeare words, word sh...         1.0  \n",
       "87  [faustian tale, inspired faust, melmoth faust,...         1.0  "
      ]
     },
     "execution_count": 13,
     "metadata": {},
     "output_type": "execute_result"
    }
   ],
   "source": [
    "df[df[\"PerfectTags\"]][[\"Id\", \"Title\", \"TagList\", \"Keywords\", \"MatchedKeywords\", \"MatchRatio\"]].head(5)"
   ]
  },
  {
   "cell_type": "code",
   "execution_count": null,
   "id": "b9ca564f",
   "metadata": {},
   "outputs": [],
   "source": []
  }
 ],
 "metadata": {
  "kernelspec": {
   "display_name": "Python 3",
   "language": "python",
   "name": "python3"
  },
  "language_info": {
   "codemirror_mode": {
    "name": "ipython",
    "version": 3
   },
   "file_extension": ".py",
   "mimetype": "text/x-python",
   "name": "python",
   "nbconvert_exporter": "python",
   "pygments_lexer": "ipython3",
   "version": "3.11.9"
  }
 },
 "nbformat": 4,
 "nbformat_minor": 5
}
