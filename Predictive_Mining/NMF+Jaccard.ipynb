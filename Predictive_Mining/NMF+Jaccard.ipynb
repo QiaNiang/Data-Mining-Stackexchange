{
 "cells": [
  {
   "cell_type": "code",
   "execution_count": 25,
   "id": "30d6bade",
   "metadata": {},
   "outputs": [],
   "source": [
    "import pandas as pd\n",
    "from sklearn.feature_extraction.text import TfidfVectorizer\n",
    "from sklearn.decomposition import NMF\n",
    "from bert_score import score\n",
    "from tqdm import tqdm\n",
    "import os\n",
    "\n",
    "tqdm.pandas()"
   ]
  },
  {
   "cell_type": "code",
   "execution_count": 26,
   "id": "ecda67bc",
   "metadata": {},
   "outputs": [],
   "source": [
    "csv_folder = r\"C:\\Users\\jiali\\OneDrive - TUM\\Studium\\Data-Mining\\physics.stackexchange.com\\CSV\"\n",
    "csv_path = os.path.join(csv_folder, \"Posts_with_sentiment.csv\")\n",
    "df = pd.read_csv(csv_path)\n",
    "df = df.head(5000)"
   ]
  },
  {
   "cell_type": "code",
   "execution_count": 27,
   "id": "033c2ba8",
   "metadata": {},
   "outputs": [],
   "source": [
    "def parse_tags(tag_str):\n",
    "    if isinstance(tag_str, str):\n",
    "        return [tag for tag in tag_str.strip('|').split('|') if tag]\n",
    "    return []\n",
    "\n",
    "df[\"TagList\"] = df[\"Tags\"].apply(parse_tags)"
   ]
  },
  {
   "cell_type": "code",
   "execution_count": 28,
   "id": "cfffae53",
   "metadata": {},
   "outputs": [],
   "source": [
    "# ✅ 2. TF-IDF 向量化 CleanBodyNoMath\n",
    "vectorizer = TfidfVectorizer(max_features=10000, stop_words=\"english\")\n",
    "X = vectorizer.fit_transform(df[\"CleanBodyNoMath\"])\n",
    "feature_names = vectorizer.get_feature_names_out()"
   ]
  },
  {
   "cell_type": "code",
   "execution_count": 29,
   "id": "b132124c",
   "metadata": {},
   "outputs": [],
   "source": [
    "# ✅ 3. 使用 NMF 提取主题\n",
    "n_topics = 20\n",
    "nmf_model = NMF(n_components=n_topics, random_state=42)\n",
    "W = nmf_model.fit_transform(X)\n",
    "H = nmf_model.components_"
   ]
  },
  {
   "cell_type": "code",
   "execution_count": 30,
   "id": "a6d8b60b",
   "metadata": {},
   "outputs": [],
   "source": [
    "# ✅ 4. 每篇文章提取前 top_n 个关键词\n",
    "def extract_keywords(row_index, W, H, feature_names, top_n=5):\n",
    "    topic_idx = W[row_index].argmax()\n",
    "    top_word_indices = H[topic_idx].argsort()[::-1][:top_n]\n",
    "    return [feature_names[i] for i in top_word_indices]\n",
    "\n",
    "df[\"Keywords\"] = [extract_keywords(i, W, H, feature_names) for i in range(len(df))]"
   ]
  },
  {
   "cell_type": "code",
   "execution_count": 31,
   "id": "a22f98cc",
   "metadata": {},
   "outputs": [
    {
     "name": "stderr",
     "output_type": "stream",
     "text": [
      "100%|██████████| 5000/5000 [00:00<00:00, 126554.79it/s]\n"
     ]
    }
   ],
   "source": [
    "# ✅ 5. 计算 Jaccard 相似度\n",
    "def compute_jaccard(row):\n",
    "    tags = set(row[\"TagList\"])\n",
    "    keywords = set(row[\"Keywords\"])\n",
    "    if not tags and not keywords:\n",
    "        return 1.0\n",
    "    return len(tags & keywords) / len(tags | keywords)\n",
    "\n",
    "df[\"Jaccard\"] = df.progress_apply(compute_jaccard, axis=1)"
   ]
  },
  {
   "cell_type": "code",
   "execution_count": 32,
   "id": "5687b612",
   "metadata": {},
   "outputs": [
    {
     "name": "stderr",
     "output_type": "stream",
     "text": [
      "Some weights of RobertaModel were not initialized from the model checkpoint at roberta-large and are newly initialized: ['pooler.dense.bias', 'pooler.dense.weight']\n",
      "You should probably TRAIN this model on a down-stream task to be able to use it for predictions and inference.\n"
     ]
    },
    {
     "name": "stdout",
     "output_type": "stream",
     "text": [
      "calculating scores...\n",
      "computing bert embedding.\n"
     ]
    },
    {
     "name": "stderr",
     "output_type": "stream",
     "text": [
      "100%|██████████| 19/19 [00:01<00:00, 11.33it/s]\n"
     ]
    },
    {
     "name": "stdout",
     "output_type": "stream",
     "text": [
      "computing greedy matching.\n"
     ]
    },
    {
     "name": "stderr",
     "output_type": "stream",
     "text": [
      "  0%|          | 0/79 [00:00<?, ?it/s]Warning: Empty reference sentence detected; setting raw BERTScores to 0.\n",
      "Warning: Empty reference sentence detected; setting raw BERTScores to 0.\n",
      "Warning: Empty reference sentence detected; setting raw BERTScores to 0.\n",
      "Warning: Empty reference sentence detected; setting raw BERTScores to 0.\n",
      "Warning: Empty reference sentence detected; setting raw BERTScores to 0.\n",
      "Warning: Empty reference sentence detected; setting raw BERTScores to 0.\n",
      "Warning: Empty reference sentence detected; setting raw BERTScores to 0.\n",
      "  9%|▉         | 7/79 [00:00<00:01, 68.96it/s]Warning: Empty reference sentence detected; setting raw BERTScores to 0.\n",
      "Warning: Empty reference sentence detected; setting raw BERTScores to 0.\n",
      "Warning: Empty reference sentence detected; setting raw BERTScores to 0.\n",
      "Warning: Empty reference sentence detected; setting raw BERTScores to 0.\n",
      "Warning: Empty reference sentence detected; setting raw BERTScores to 0.\n",
      "Warning: Empty reference sentence detected; setting raw BERTScores to 0.\n",
      "Warning: Empty reference sentence detected; setting raw BERTScores to 0.\n",
      " 18%|█▊        | 14/79 [00:00<00:01, 58.31it/s]Warning: Empty reference sentence detected; setting raw BERTScores to 0.\n",
      "Warning: Empty reference sentence detected; setting raw BERTScores to 0.\n",
      "Warning: Empty reference sentence detected; setting raw BERTScores to 0.\n",
      "Warning: Empty reference sentence detected; setting raw BERTScores to 0.\n",
      "Warning: Empty reference sentence detected; setting raw BERTScores to 0.\n",
      "Warning: Empty reference sentence detected; setting raw BERTScores to 0.\n",
      "Warning: Empty reference sentence detected; setting raw BERTScores to 0.\n",
      "Warning: Empty reference sentence detected; setting raw BERTScores to 0.\n",
      " 28%|██▊       | 22/79 [00:00<00:00, 63.70it/s]Warning: Empty reference sentence detected; setting raw BERTScores to 0.\n",
      "Warning: Empty reference sentence detected; setting raw BERTScores to 0.\n",
      "Warning: Empty reference sentence detected; setting raw BERTScores to 0.\n",
      "Warning: Empty reference sentence detected; setting raw BERTScores to 0.\n",
      "Warning: Empty reference sentence detected; setting raw BERTScores to 0.\n",
      "Warning: Empty reference sentence detected; setting raw BERTScores to 0.\n",
      "Warning: Empty reference sentence detected; setting raw BERTScores to 0.\n",
      " 37%|███▋      | 29/79 [00:00<00:00, 64.56it/s]Warning: Empty reference sentence detected; setting raw BERTScores to 0.\n",
      "Warning: Empty reference sentence detected; setting raw BERTScores to 0.\n",
      "Warning: Empty reference sentence detected; setting raw BERTScores to 0.\n",
      "Warning: Empty reference sentence detected; setting raw BERTScores to 0.\n",
      "Warning: Empty reference sentence detected; setting raw BERTScores to 0.\n",
      "Warning: Empty reference sentence detected; setting raw BERTScores to 0.\n",
      "Warning: Empty reference sentence detected; setting raw BERTScores to 0.\n",
      " 46%|████▌     | 36/79 [00:00<00:00, 66.36it/s]Warning: Empty reference sentence detected; setting raw BERTScores to 0.\n",
      "Warning: Empty reference sentence detected; setting raw BERTScores to 0.\n",
      "Warning: Empty reference sentence detected; setting raw BERTScores to 0.\n",
      "Warning: Empty reference sentence detected; setting raw BERTScores to 0.\n",
      "Warning: Empty reference sentence detected; setting raw BERTScores to 0.\n",
      "Warning: Empty reference sentence detected; setting raw BERTScores to 0.\n",
      "Warning: Empty reference sentence detected; setting raw BERTScores to 0.\n",
      " 54%|█████▍    | 43/79 [00:00<00:00, 67.04it/s]Warning: Empty reference sentence detected; setting raw BERTScores to 0.\n",
      "Warning: Empty reference sentence detected; setting raw BERTScores to 0.\n",
      "Warning: Empty reference sentence detected; setting raw BERTScores to 0.\n",
      "Warning: Empty reference sentence detected; setting raw BERTScores to 0.\n",
      "Warning: Empty reference sentence detected; setting raw BERTScores to 0.\n",
      "Warning: Empty reference sentence detected; setting raw BERTScores to 0.\n",
      "Warning: Empty reference sentence detected; setting raw BERTScores to 0.\n",
      "Warning: Empty reference sentence detected; setting raw BERTScores to 0.\n",
      " 65%|██████▍   | 51/79 [00:00<00:00, 68.63it/s]Warning: Empty reference sentence detected; setting raw BERTScores to 0.\n",
      "Warning: Empty reference sentence detected; setting raw BERTScores to 0.\n",
      "Warning: Empty reference sentence detected; setting raw BERTScores to 0.\n",
      "Warning: Empty reference sentence detected; setting raw BERTScores to 0.\n",
      "Warning: Empty reference sentence detected; setting raw BERTScores to 0.\n",
      "Warning: Empty reference sentence detected; setting raw BERTScores to 0.\n",
      "Warning: Empty reference sentence detected; setting raw BERTScores to 0.\n",
      "Warning: Empty reference sentence detected; setting raw BERTScores to 0.\n",
      " 75%|███████▍  | 59/79 [00:00<00:00, 70.26it/s]Warning: Empty reference sentence detected; setting raw BERTScores to 0.\n",
      "Warning: Empty reference sentence detected; setting raw BERTScores to 0.\n",
      "Warning: Empty reference sentence detected; setting raw BERTScores to 0.\n",
      "Warning: Empty reference sentence detected; setting raw BERTScores to 0.\n",
      "Warning: Empty reference sentence detected; setting raw BERTScores to 0.\n",
      "Warning: Empty reference sentence detected; setting raw BERTScores to 0.\n",
      "Warning: Empty reference sentence detected; setting raw BERTScores to 0.\n",
      "Warning: Empty reference sentence detected; setting raw BERTScores to 0.\n",
      " 85%|████████▍ | 67/79 [00:00<00:00, 70.13it/s]Warning: Empty reference sentence detected; setting raw BERTScores to 0.\n",
      "Warning: Empty reference sentence detected; setting raw BERTScores to 0.\n",
      "Warning: Empty reference sentence detected; setting raw BERTScores to 0.\n",
      "Warning: Empty reference sentence detected; setting raw BERTScores to 0.\n",
      "Warning: Empty reference sentence detected; setting raw BERTScores to 0.\n",
      "Warning: Empty reference sentence detected; setting raw BERTScores to 0.\n",
      "Warning: Empty reference sentence detected; setting raw BERTScores to 0.\n",
      "Warning: Empty reference sentence detected; setting raw BERTScores to 0.\n",
      " 95%|█████████▍| 75/79 [00:01<00:00, 68.15it/s]Warning: Empty reference sentence detected; setting raw BERTScores to 0.\n",
      "Warning: Empty reference sentence detected; setting raw BERTScores to 0.\n",
      "Warning: Empty reference sentence detected; setting raw BERTScores to 0.\n",
      "Warning: Empty reference sentence detected; setting raw BERTScores to 0.\n",
      "100%|██████████| 79/79 [00:01<00:00, 67.58it/s]\n"
     ]
    },
    {
     "name": "stdout",
     "output_type": "stream",
     "text": [
      "done in 2.86 seconds, 1751.09 sentences/sec\n"
     ]
    }
   ],
   "source": [
    "from bert_score import score\n",
    "from tqdm import tqdm\n",
    "import pandas as pd\n",
    "\n",
    "# ✅ 先生成所有 candidate/reference 句子\n",
    "candidates = [\" \".join(row) for row in df[\"Keywords\"]]\n",
    "references = [\" \".join(row) for row in df[\"TagList\"]]\n",
    "\n",
    "# ✅ 批量计算 BERTScore（默认使用 GPU）\n",
    "P, R, F1 = score(candidates, references, lang=\"en\", verbose=True)\n",
    "\n",
    "# ✅ 写入结果（转为 float）\n",
    "df[\"BERT_Precision\"] = [p.item() for p in P]\n",
    "df[\"BERT_Recall\"]    = [r.item() for r in R]\n",
    "df[\"BERT_F1\"]        = [f.item() for f in F1]"
   ]
  },
  {
   "cell_type": "code",
   "execution_count": null,
   "id": "f3c9220c",
   "metadata": {},
   "outputs": [
    {
     "name": "stdout",
     "output_type": "stream",
     "text": [
      "🔍 平均 Jaccard 相似度：0.005\n",
      "🔍 平均 BERT F1 分数：  0.229\n"
     ]
    },
    {
     "ename": "",
     "evalue": "",
     "output_type": "error",
     "traceback": [
      "\u001b[1;31mThe Kernel crashed while executing code in the current cell or a previous cell. \n",
      "\u001b[1;31mPlease review the code in the cell(s) to identify a possible cause of the failure. \n",
      "\u001b[1;31mClick <a href='https://aka.ms/vscodeJupyterKernelCrash'>here</a> for more info. \n",
      "\u001b[1;31mView Jupyter <a href='command:jupyter.viewOutput'>log</a> for further details."
     ]
    }
   ],
   "source": [
    "# 计算总体平均值\n",
    "mean_jaccard = df[\"Jaccard\"].mean()\n",
    "mean_bert_f1 = df[\"BERT_F1\"].mean()\n",
    "\n",
    "print(f\"🔍 平均 Jaccard 相似度：{mean_jaccard:.3f}\")\n",
    "print(f\"🔍 平均 BERT F1 分数：  {mean_bert_f1:.3f}\")"
   ]
  },
  {
   "cell_type": "code",
   "execution_count": null,
   "id": "a9a76cf7",
   "metadata": {},
   "outputs": [],
   "source": []
  }
 ],
 "metadata": {
  "kernelspec": {
   "display_name": "Python 3",
   "language": "python",
   "name": "python3"
  },
  "language_info": {
   "codemirror_mode": {
    "name": "ipython",
    "version": 3
   },
   "file_extension": ".py",
   "mimetype": "text/x-python",
   "name": "python",
   "nbconvert_exporter": "python",
   "pygments_lexer": "ipython3",
   "version": "3.11.9"
  }
 },
 "nbformat": 4,
 "nbformat_minor": 5
}
