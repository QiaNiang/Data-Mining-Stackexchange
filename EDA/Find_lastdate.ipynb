{
 "cells": [
  {
   "cell_type": "code",
   "execution_count": 2,
   "id": "fb6f1ea2",
   "metadata": {},
   "outputs": [],
   "source": [
    "import pandas as pd\n",
    "import os\n",
    "import matplotlib.pyplot as plt\n",
    "import re\n",
    "import seaborn as sns\n",
    "import matplotlib.dates as mdates\n",
    "from datetime import datetime"
   ]
  },
  {
   "cell_type": "code",
   "execution_count": 3,
   "id": "0080c9b2",
   "metadata": {},
   "outputs": [
    {
     "name": "stderr",
     "output_type": "stream",
     "text": [
      "/var/folders/mg/7s9vdy_90bz_8g1dvhh46rzr0000gn/T/ipykernel_52907/3504081062.py:4: DtypeWarning: Columns (0,1) have mixed types. Specify dtype option on import or set low_memory=False.\n",
      "  comments_df = pd.read_csv(path1)\n"
     ]
    }
   ],
   "source": [
    "folder = r\"/Users/qialiang/Documents/Studium/DM_Dataset\"\n",
    "file1 = \"Physics_Comments.csv\"\n",
    "path1 = os.path.join(folder, file1)\n",
    "comments_df = pd.read_csv(path1)\n",
    "\n",
    "file2 = \"Merged_posts_to_users.csv\" \n",
    "path2 = os.path.join(folder, file2)\n",
    "posts_users_df = pd.read_csv(path2)"
   ]
  },
  {
   "cell_type": "code",
   "execution_count": 5,
   "id": "cdc3656d",
   "metadata": {},
   "outputs": [
    {
     "name": "stdout",
     "output_type": "stream",
     "text": [
      "<class 'pandas.core.frame.DataFrame'>\n",
      "RangeIndex: 782271 entries, 0 to 782270\n",
      "Data columns (total 37 columns):\n",
      " #   Column                 Non-Null Count   Dtype  \n",
      "---  ------                 --------------   -----  \n",
      " 0   Id_post                555999 non-null  float64\n",
      " 1   PostTypeId             555999 non-null  float64\n",
      " 2   AcceptedAnswerId       555999 non-null  float64\n",
      " 3   CreationDate_post      555999 non-null  object \n",
      " 4   Score                  555999 non-null  float64\n",
      " 5   ViewCount              555999 non-null  float64\n",
      " 6   Body                   555999 non-null  object \n",
      " 7   OwnerUserId            555999 non-null  float64\n",
      " 8   LastEditorUserId       276769 non-null  float64\n",
      " 9   LastEditDate           281349 non-null  object \n",
      " 10  LastActivityDate       555999 non-null  object \n",
      " 11  Title                  225083 non-null  object \n",
      " 12  Tags                   225083 non-null  object \n",
      " 13  AnswerCount            555999 non-null  float64\n",
      " 14  CommentCount           555999 non-null  float64\n",
      " 15  ContentLicense         555999 non-null  object \n",
      " 16  ParentId               329664 non-null  float64\n",
      " 17  OwnerDisplayName       2663 non-null    object \n",
      " 18  ClosedDate             35103 non-null   object \n",
      " 19  LastEditorDisplayName  5079 non-null    object \n",
      " 20  CommunityOwnedDate     6036 non-null    object \n",
      " 21  FavoriteCount          9500 non-null    float64\n",
      " 22  CleanBodyNoMath        555999 non-null  object \n",
      " 23  SentimentScore         555999 non-null  float64\n",
      " 24  SentimentLabel         555999 non-null  object \n",
      " 25  Id_user                782271 non-null  int64  \n",
      " 26  Reputation             782271 non-null  int64  \n",
      " 27  CreationDate_user      782271 non-null  object \n",
      " 28  DisplayName            782241 non-null  object \n",
      " 29  LastAccessDate         782271 non-null  object \n",
      " 30  WebsiteUrl             119568 non-null  object \n",
      " 31  Location               281099 non-null  object \n",
      " 32  AboutMe                316822 non-null  object \n",
      " 33  Views                  782271 non-null  int64  \n",
      " 34  UpVotes                782271 non-null  int64  \n",
      " 35  DownVotes              782271 non-null  int64  \n",
      " 36  AccountId              782259 non-null  float64\n",
      "dtypes: float64(13), int64(5), object(19)\n",
      "memory usage: 220.8+ MB\n"
     ]
    }
   ],
   "source": [
    "posts_users_df.info()"
   ]
  },
  {
   "cell_type": "code",
   "execution_count": 11,
   "id": "25529b58",
   "metadata": {},
   "outputs": [
    {
     "name": "stdout",
     "output_type": "stream",
     "text": [
      "<class 'pandas.core.frame.DataFrame'>\n",
      "RangeIndex: 1135281 entries, 0 to 1135280\n",
      "Data columns (total 7 columns):\n",
      " #   Column           Non-Null Count    Dtype  \n",
      "---  ------           --------------    -----  \n",
      " 0   Id               1135281 non-null  object \n",
      " 1   PostId           1135280 non-null  object \n",
      " 2   Score            1135279 non-null  float64\n",
      " 3   Text             1135279 non-null  object \n",
      " 4   CreationDate     1135278 non-null  object \n",
      " 5   UserId           1085682 non-null  float64\n",
      " 6   UserDisplayName  49643 non-null    object \n",
      "dtypes: float64(2), object(5)\n",
      "memory usage: 60.6+ MB\n"
     ]
    }
   ],
   "source": [
    "comments_df.info()"
   ]
  },
  {
   "cell_type": "code",
   "execution_count": 8,
   "id": "c3d8e877",
   "metadata": {},
   "outputs": [
    {
     "name": "stdout",
     "output_type": "stream",
     "text": [
      "                    User Count  Percentage (%)\n",
      "active_days_bucket                            \n",
      "0 天                     110764           14.16\n",
      "1–5 天                    19564            2.50\n",
      "6–30 天                   26752            3.42\n",
      "31–180 天                 50196            6.42\n",
      "181–365 天                30966            3.96\n",
      ">365 天                  544029           69.54\n"
     ]
    },
    {
     "name": "stderr",
     "output_type": "stream",
     "text": [
      "/opt/miniconda3/envs/Datamining/lib/python3.10/site-packages/IPython/core/pylabtools.py:170: UserWarning: Glyph 29992 (\\N{CJK UNIFIED IDEOGRAPH-7528}) missing from font(s) DejaVu Sans.\n",
      "  fig.canvas.print_figure(bytes_io, **kw)\n",
      "/opt/miniconda3/envs/Datamining/lib/python3.10/site-packages/IPython/core/pylabtools.py:170: UserWarning: Glyph 25143 (\\N{CJK UNIFIED IDEOGRAPH-6237}) missing from font(s) DejaVu Sans.\n",
      "  fig.canvas.print_figure(bytes_io, **kw)\n",
      "/opt/miniconda3/envs/Datamining/lib/python3.10/site-packages/IPython/core/pylabtools.py:170: UserWarning: Glyph 25968 (\\N{CJK UNIFIED IDEOGRAPH-6570}) missing from font(s) DejaVu Sans.\n",
      "  fig.canvas.print_figure(bytes_io, **kw)\n",
      "/opt/miniconda3/envs/Datamining/lib/python3.10/site-packages/IPython/core/pylabtools.py:170: UserWarning: Glyph 25353 (\\N{CJK UNIFIED IDEOGRAPH-6309}) missing from font(s) DejaVu Sans.\n",
      "  fig.canvas.print_figure(bytes_io, **kw)\n",
      "/opt/miniconda3/envs/Datamining/lib/python3.10/site-packages/IPython/core/pylabtools.py:170: UserWarning: Glyph 27963 (\\N{CJK UNIFIED IDEOGRAPH-6D3B}) missing from font(s) DejaVu Sans.\n",
      "  fig.canvas.print_figure(bytes_io, **kw)\n",
      "/opt/miniconda3/envs/Datamining/lib/python3.10/site-packages/IPython/core/pylabtools.py:170: UserWarning: Glyph 36291 (\\N{CJK UNIFIED IDEOGRAPH-8DC3}) missing from font(s) DejaVu Sans.\n",
      "  fig.canvas.print_figure(bytes_io, **kw)\n",
      "/opt/miniconda3/envs/Datamining/lib/python3.10/site-packages/IPython/core/pylabtools.py:170: UserWarning: Glyph 22825 (\\N{CJK UNIFIED IDEOGRAPH-5929}) missing from font(s) DejaVu Sans.\n",
      "  fig.canvas.print_figure(bytes_io, **kw)\n",
      "/opt/miniconda3/envs/Datamining/lib/python3.10/site-packages/IPython/core/pylabtools.py:170: UserWarning: Glyph 20998 (\\N{CJK UNIFIED IDEOGRAPH-5206}) missing from font(s) DejaVu Sans.\n",
      "  fig.canvas.print_figure(bytes_io, **kw)\n",
      "/opt/miniconda3/envs/Datamining/lib/python3.10/site-packages/IPython/core/pylabtools.py:170: UserWarning: Glyph 24067 (\\N{CJK UNIFIED IDEOGRAPH-5E03}) missing from font(s) DejaVu Sans.\n",
      "  fig.canvas.print_figure(bytes_io, **kw)\n",
      "/opt/miniconda3/envs/Datamining/lib/python3.10/site-packages/IPython/core/pylabtools.py:170: UserWarning: Glyph 21306 (\\N{CJK UNIFIED IDEOGRAPH-533A}) missing from font(s) DejaVu Sans.\n",
      "  fig.canvas.print_figure(bytes_io, **kw)\n",
      "/opt/miniconda3/envs/Datamining/lib/python3.10/site-packages/IPython/core/pylabtools.py:170: UserWarning: Glyph 38388 (\\N{CJK UNIFIED IDEOGRAPH-95F4}) missing from font(s) DejaVu Sans.\n",
      "  fig.canvas.print_figure(bytes_io, **kw)\n"
     ]
    },
    {
     "data": {
      "image/png": "[encoded data removed]",
      "text/plain": [
       "<Figure size 1000x500 with 1 Axes>"
      ]
     },
     "metadata": {},
     "output_type": "display_data"
    }
   ],
   "source": [
    "import pandas as pd\n",
    "import matplotlib.pyplot as plt\n",
    "\n",
    "# 1. 转换为 datetime\n",
    "posts_users_df['CreationDate_user'] = pd.to_datetime(posts_users_df['CreationDate_user'], errors='coerce')\n",
    "posts_users_df['LastAccessDate'] = pd.to_datetime(posts_users_df['LastAccessDate'], errors='coerce')\n",
    "\n",
    "# 2. 计算活跃天数\n",
    "posts_users_df['active_days'] = (posts_users_df['LastAccessDate'] - posts_users_df['CreationDate_user']).dt.days\n",
    "\n",
    "# 3. 丢弃非法值\n",
    "valid_df = posts_users_df[posts_users_df['active_days'].notna() & (posts_users_df['active_days'] >= 0)]\n",
    "\n",
    "# 4. 设置分箱\n",
    "bins = [-1, 0, 5, 30, 180, 365, float('inf')]\n",
    "labels = ['0 天', '1–5 天', '6–30 天', '31–180 天', '181–365 天', '>365 天']\n",
    "\n",
    "# 5. 分类\n",
    "valid_df['active_days_bucket'] = pd.cut(valid_df['active_days'], bins=bins, labels=labels, right=True)\n",
    "\n",
    "# 6. 统计数量和百分比\n",
    "bucket_counts = valid_df['active_days_bucket'].value_counts().sort_index()\n",
    "bucket_percent = (bucket_counts / bucket_counts.sum() * 100).round(2)\n",
    "\n",
    "# 7. 合并成 DataFrame\n",
    "distribution_df = pd.DataFrame({\n",
    "    'User Count': bucket_counts,\n",
    "    'Percentage (%)': bucket_percent\n",
    "})\n",
    "\n",
    "# 8. 打印表格\n",
    "print(distribution_df)\n",
    "\n",
    "# 9. 可视化（带百分比）\n",
    "plt.figure(figsize=(10, 5))\n",
    "bars = plt.bar(distribution_df.index, distribution_df['User Count'])\n",
    "plt.title('用户按活跃天数分布')\n",
    "plt.xlabel('活跃天数区间')\n",
    "plt.ylabel('用户数')\n",
    "\n",
    "# 添加百分比标注\n",
    "for bar, pct in zip(bars, bucket_percent):\n",
    "    plt.text(bar.get_x() + bar.get_width()/2, bar.get_height(), f'{pct:.1f}%', ha='center', va='bottom')\n",
    "\n",
    "plt.grid(True, axis='y', linestyle='--', alpha=0.5)\n",
    "plt.show()"
   ]
  },
  {
   "cell_type": "code",
   "execution_count": 9,
   "id": "69c2ff8f",
   "metadata": {},
   "outputs": [
    {
     "name": "stdout",
     "output_type": "stream",
     "text": [
      "   OwnerUserId            LastPostDate\n",
      "0         -1.0 2022-06-21 22:21:29.697\n",
      "1          4.0 2013-12-10 22:56:01.103\n",
      "2          6.0 2010-11-04 04:57:45.843\n",
      "3          7.0 2013-02-02 01:28:06.660\n",
      "4          8.0 2014-02-02 03:31:23.190\n"
     ]
    }
   ],
   "source": [
    "# 1. 确保 CreationDate_post 是 datetime 类型\n",
    "posts_users_df['CreationDate_post'] = pd.to_datetime(posts_users_df['CreationDate_post'], errors='coerce')\n",
    "\n",
    "# 2. 去掉没有 OwnerUserId 的行（匿名帖子）\n",
    "filtered_df = posts_users_df[posts_users_df['OwnerUserId'].notna()]\n",
    "\n",
    "# 3. 按用户聚合，找出最后一次发帖时间\n",
    "last_post_df = (\n",
    "    filtered_df\n",
    "    .groupby('OwnerUserId')['CreationDate_post']\n",
    "    .max()\n",
    "    .reset_index()\n",
    "    .rename(columns={'CreationDate_post': 'LastPostDate'})\n",
    ")\n",
    "\n",
    "# 4. 查看结果\n",
    "print(last_post_df.head())"
   ]
  },
  {
   "cell_type": "code",
   "execution_count": 12,
   "id": "b697c760",
   "metadata": {},
   "outputs": [
    {
     "name": "stdout",
     "output_type": "stream",
     "text": [
      "   UserId      LastCommentDate\n",
      "0    -1.0  2024-03-31 20:46:37\n",
      "1     4.0  2018-08-12 22:08:45\n",
      "2     7.0  2010-11-03 16:31:09\n",
      "3     8.0  2012-06-24 22:15:36\n",
      "4    11.0  2020-06-06 02:20:00\n"
     ]
    }
   ],
   "source": [
    "import pandas as pd\n",
    "\n",
    "# 确保 CreationDate 是 datetime 类型\n",
    "comments_df['CreationDate'] = pd.to_datetime(comments_df['CreationDate'], errors='coerce')\n",
    "\n",
    "# 去掉没有 UserId 的匿名评论\n",
    "filtered_comments_df = comments_df[comments_df['UserId'].notna()]\n",
    "\n",
    "# 按用户分组，找出最后评论时间\n",
    "last_comment_df = (\n",
    "    filtered_comments_df\n",
    "    .groupby('UserId')['CreationDate']\n",
    "    .max()\n",
    "    .reset_index()\n",
    "    .rename(columns={'CreationDate': 'LastCommentDate'})\n",
    ")\n",
    "\n",
    "# 可选：统一时间格式（去掉毫秒）\n",
    "last_comment_df['LastCommentDate'] = last_comment_df['LastCommentDate'].dt.strftime('%Y-%m-%d %H:%M:%S')\n",
    "\n",
    "# 查看前几行\n",
    "print(last_comment_df.head())"
   ]
  },
  {
   "cell_type": "code",
   "execution_count": null,
   "id": "15dadd43",
   "metadata": {},
   "outputs": [],
   "source": [
    "# 1. 合并 last_post_df 和 last_comment_df（如之前做的）\n",
    "last_post_df = last_post_df.rename(columns={'OwnerUserId': 'UserId'})\n",
    "merged_df = pd.merge(last_post_df, last_comment_df, on='UserId', how='outer')\n",
    "\n",
    "# 2. 为了方便合并回 posts_users_df，恢复 UserId → OwnerUserId\n",
    "merged_df = merged_df.rename(columns={'UserId': 'OwnerUserId'})\n",
    "\n",
    "# 3. 合并回原始的 posts_users_df\n",
    "posts_users_with_activity = pd.merge(\n",
    "    posts_users_df,\n",
    "    merged_df,\n",
    "    on='OwnerUserId',\n",
    "    how='left'  # 保留所有原始发帖记录\n",
    ")"
   ]
  },
  {
   "cell_type": "code",
   "execution_count": 26,
   "id": "5d75ae7e",
   "metadata": {},
   "outputs": [],
   "source": [
    "# 强制转换为 pandas datetime（即使它已经看起来像 datetime）\n",
    "posts_users_with_activity['CreationDate_user'] = pd.to_datetime(\n",
    "    posts_users_with_activity['CreationDate_user'], errors='coerce'\n",
    ")\n",
    "posts_users_with_activity['LastActivityDate'] = pd.to_datetime(\n",
    "    posts_users_with_activity['LastActivityDate'], errors='coerce'\n",
    ")\n",
    "\n",
    "# 然后再计算时间差\n",
    "posts_users_with_activity['RealActiveDays'] = (\n",
    "    posts_users_with_activity['LastActivityDate'] - posts_users_with_activity['CreationDate_user']\n",
    ").dt.days\n",
    "\n",
    "posts_users_with_activity = posts_users_with_activity[\n",
    "    (posts_users_with_activity['OwnerUserId'] != -1) &\n",
    "    (posts_users_with_activity['OwnerUserId'].notna())\n",
    "]"
   ]
  },
  {
   "cell_type": "code",
   "execution_count": 27,
   "id": "3510b9b5",
   "metadata": {},
   "outputs": [
    {
     "name": "stdout",
     "output_type": "stream",
     "text": [
      "    OwnerUserId       CreationDate_user        LastActivityDate  \\\n",
      "27          4.0 2010-11-01 23:01:40.147 2016-01-24 08:19:31.100   \n",
      "28          4.0 2010-11-01 23:01:40.147 2018-10-07 08:31:45.650   \n",
      "29          4.0 2010-11-01 23:01:40.147 2021-06-05 10:21:33.433   \n",
      "30          4.0 2010-11-01 23:01:40.147 2015-11-11 16:45:03.857   \n",
      "31          4.0 2010-11-01 23:01:40.147 2016-03-10 14:20:47.257   \n",
      "\n",
      "    RealActiveDays  \n",
      "27          1909.0  \n",
      "28          2896.0  \n",
      "29          3868.0  \n",
      "30          1835.0  \n",
      "31          1955.0  \n"
     ]
    }
   ],
   "source": [
    "print(posts_users_with_activity[['OwnerUserId', 'CreationDate_user', 'LastActivityDate', 'RealActiveDays']].head())"
   ]
  },
  {
   "cell_type": "code",
   "execution_count": 28,
   "id": "5bbd5471",
   "metadata": {},
   "outputs": [],
   "source": [
    "filename = \"posts_to_users_with_lastdate.csv\"\n",
    "output_path = f\"{folder}\\\\{filename}\"\n",
    "\n",
    "posts_users_with_activity.to_csv(output_path, index=False, encoding='utf-8-sig')"
   ]
  },
  {
   "cell_type": "code",
   "execution_count": null,
   "id": "56dc5d19",
   "metadata": {},
   "outputs": [],
   "source": []
  }
 ],
 "metadata": {
  "kernelspec": {
   "display_name": "Datamining",
   "language": "python",
   "name": "python3"
  },
  "language_info": {
   "codemirror_mode": {
    "name": "ipython",
    "version": 3
   },
   "file_extension": ".py",
   "mimetype": "text/x-python",
   "name": "python",
   "nbconvert_exporter": "python",
   "pygments_lexer": "ipython3",
   "version": "3.10.16"
  }
 },
 "nbformat": 4,
 "nbformat_minor": 5
}
