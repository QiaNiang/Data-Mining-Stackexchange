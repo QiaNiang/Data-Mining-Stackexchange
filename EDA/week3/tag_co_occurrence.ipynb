{
 "cells": [
  {
   "cell_type": "code",
   "execution_count": 10,
   "metadata": {},
   "outputs": [
    {
     "name": "stdout",
     "output_type": "stream",
     "text": [
      "Total posts: 576958\n",
      "Sparse co-occurrence matrix created.\n",
      "Unique tags: 898\n",
      "Matrix shape: (898, 898), Non-zero entries: 148308\n",
      "Filtered 160 edges with weight >= 1000\n",
      "Graph has 75 nodes and 80 edges.\n",
      "Graph saved as tag_cooccurrence_network_full.html\n"
     ]
    }
   ],
   "source": [
    "import pandas as pd\n",
    "import numpy as np\n",
    "from sklearn.preprocessing import MultiLabelBinarizer\n",
    "from scipy.sparse import csr_matrix\n",
    "import networkx as nx\n",
    "from pyvis.network import Network\n",
    "\n",
    "# Load data\n",
    "posts = pd.read_csv('../physics_csv/Posts_with_vote_counts.csv')\n",
    "posts['Tags_clean'] = posts['Tags'].apply(lambda x: x.strip('|').split('|'))\n",
    "\n",
    "# Use full dataset (or adjust sample size as needed)\n",
    "data_to_use = posts  # All rows\n",
    "print(f\"Total posts: {len(data_to_use)}\")\n",
    "\n",
    "# Create sparse tag matrix\n",
    "mlb = MultiLabelBinarizer(sparse_output=True)\n",
    "tag_matrix_sparse = mlb.fit_transform(data_to_use['Tags_clean'])\n",
    "\n",
    "# Compute co-occurrence matrix (sparse)\n",
    "co_occurrence_sparse = tag_matrix_sparse.T @ tag_matrix_sparse\n",
    "co_occurrence_sparse.setdiag(0)\n",
    "print(\"Sparse co-occurrence matrix created.\")\n",
    "print(f\"Unique tags: {len(mlb.classes_)}\")\n",
    "print(f\"Matrix shape: {co_occurrence_sparse.shape}, Non-zero entries: {co_occurrence_sparse.nnz}\")\n",
    "\n",
    "# Convert to COO format\n",
    "coo = co_occurrence_sparse.tocoo()\n",
    "# Ensure edge filtering to reduce graph size\n",
    "EDGE_THRESHOLD = 1000\n",
    "edges = [(i, j, v) for i, j, v in zip(coo.row, coo.col, coo.data) if v >= EDGE_THRESHOLD]\n",
    "print(f\"Filtered {len(edges)} edges with weight >= {EDGE_THRESHOLD}\")\n",
    "\n",
    "# Build graph\n",
    "G = nx.Graph()\n",
    "for i, j, w in edges:\n",
    "    G.add_edge(str(mlb.classes_[i]), str(mlb.classes_[j]), weight=int(w), value=int(w))\n",
    "\n",
    "print(f\"Graph has {G.number_of_nodes()} nodes and {G.number_of_edges()} edges.\")\n",
    "\n",
    "# Create PyVis network\n",
    "net = Network(notebook=False, height=\"1000px\", width=\"100%\")\n",
    "net.from_nx(G)\n",
    "\n",
    "for node in net.nodes:\n",
    "    node['size'] = 15\n",
    "    node['title'] = node['id']\n",
    "\n",
    "for edge in net.edges:\n",
    "    edge['title'] = f\"Weight: {edge.get('value', 'N/A')}\"\n",
    "    edge['width'] = edge.get('value', 1) * 0.1\n",
    "\n",
    "# Save HTML\n",
    "output_file = \"tag_cooccurrence_network_full.html\"\n",
    "net.write_html(output_file)\n",
    "print(f\"Graph saved as {output_file}\")\n",
    "\n"
   ]
  }
 ],
 "metadata": {
  "kernelspec": {
   "display_name": "venv",
   "language": "python",
   "name": "python3"
  },
  "language_info": {
   "codemirror_mode": {
    "name": "ipython",
    "version": 3
   },
   "file_extension": ".py",
   "mimetype": "text/x-python",
   "name": "python",
   "nbconvert_exporter": "python",
   "pygments_lexer": "ipython3",
   "version": "3.13.3"
  }
 },
 "nbformat": 4,
 "nbformat_minor": 2
}
