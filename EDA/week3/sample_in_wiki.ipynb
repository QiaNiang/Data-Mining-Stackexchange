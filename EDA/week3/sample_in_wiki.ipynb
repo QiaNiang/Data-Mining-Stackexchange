{
 "cells": [
  {
   "cell_type": "code",
   "execution_count": 1,
   "metadata": {},
   "outputs": [],
   "source": [
    "import networkx as nx\n",
    "from pyvis.network import Network\n",
    "from sklearn.preprocessing import MultiLabelBinarizer\n",
    "import numpy as np\n",
    "\n",
    "# Sample first three posts\n",
    "first_three_posts = [\n",
    "    ['quantum-mechanics', 'particle-physics', 'angular-momentum', 'quantum-spin'],\n",
    "    ['string-theory', 'education'],\n",
    "    ['particle-physics', 'group-theory', 'representation-theory']\n",
    "]\n",
    "\n",
    "# Create the one-hot encoded tag matrix\n",
    "mlb = MultiLabelBinarizer()\n",
    "tag_matrix = mlb.fit_transform(first_three_posts)\n",
    "\n",
    "# Compute the co-occurrence matrix\n",
    "co_occurrence_matrix = tag_matrix.T @ tag_matrix\n",
    "np.fill_diagonal(co_occurrence_matrix, 0)  # Remove self-co-occurrence\n",
    "\n",
    "# Convert matrix to NetworkX graph\n",
    "G = nx.Graph()\n",
    "for i, tag1 in enumerate(mlb.classes_):\n",
    "    for j, tag2 in enumerate(mlb.classes_):\n",
    "        weight = co_occurrence_matrix[i, j]\n",
    "        if weight > 0:\n",
    "            G.add_edge(tag1, tag2, weight=int(weight), value=int(weight))  # Add value for PyVis\n"
   ]
  },
  {
   "cell_type": "code",
   "execution_count": 5,
   "metadata": {},
   "outputs": [
    {
     "name": "stdout",
     "output_type": "stream",
     "text": [
      "first_three_posts_network.html\n"
     ]
    },
    {
     "data": {
      "text/html": [
       "\n",
       "        <iframe\n",
       "            width=\"100%\"\n",
       "            height=\"700px\"\n",
       "            src=\"first_three_posts_network.html\"\n",
       "            frameborder=\"0\"\n",
       "            allowfullscreen\n",
       "            \n",
       "        ></iframe>\n",
       "        "
      ],
      "text/plain": [
       "<IPython.lib.display.IFrame at 0x1203ce190>"
      ]
     },
     "execution_count": 5,
     "metadata": {},
     "output_type": "execute_result"
    }
   ],
   "source": [
    "# Create PyVis network from NetworkX graph\n",
    "net = Network(notebook=True, cdn_resources='in_line', height=\"700px\", width=\"100%\", bgcolor=\"white\", font_color=\"black\")\n",
    "\n",
    "net.from_nx(G)\n",
    "\n",
    "# Optional: Customize nodes and edges\n",
    "for node in net.nodes:\n",
    "    node['size'] = 15\n",
    "    node['title'] = node['id']\n",
    "\n",
    "for edge in net.edges:\n",
    "    edge['title'] = f\"Weight: {edge['value']}\"\n",
    "    edge['width'] = edge['value'] * 1.0  # Adjust width based on weight\n",
    "\n",
    "# Show interactive graph\n",
    "net.show(\"first_three_posts_network.html\")\n"
   ]
  }
 ],
 "metadata": {
  "kernelspec": {
   "display_name": "venv",
   "language": "python",
   "name": "python3"
  },
  "language_info": {
   "codemirror_mode": {
    "name": "ipython",
    "version": 3
   },
   "file_extension": ".py",
   "mimetype": "text/x-python",
   "name": "python",
   "nbconvert_exporter": "python",
   "pygments_lexer": "ipython3",
   "version": "3.13.3"
  }
 },
 "nbformat": 4,
 "nbformat_minor": 2
}
