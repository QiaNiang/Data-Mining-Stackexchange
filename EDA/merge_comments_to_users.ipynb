{
 "cells": [
  {
   "cell_type": "code",
   "execution_count": 2,
   "id": "2cd1105e",
   "metadata": {},
   "outputs": [],
   "source": [
    "import pandas as pd\n",
    "import os"
   ]
  },
  {
   "cell_type": "code",
   "execution_count": 3,
   "id": "0e43818e",
   "metadata": {},
   "outputs": [
    {
     "name": "stderr",
     "output_type": "stream",
     "text": [
      "/var/folders/mg/7s9vdy_90bz_8g1dvhh46rzr0000gn/T/ipykernel_52199/3504081062.py:4: DtypeWarning: Columns (0,1) have mixed types. Specify dtype option on import or set low_memory=False.\n",
      "  comments_df = pd.read_csv(path1)\n"
     ]
    }
   ],
   "source": [
    "folder = r\"/Users/qialiang/Documents/Studium/DM_Dataset\"\n",
    "file1 = \"Physics_Comments.csv\"\n",
    "path1 = os.path.join(folder, file1)\n",
    "comments_df = pd.read_csv(path1)\n",
    "\n",
    "file2 = \"Merged_posts_to_users.csv\" \n",
    "path2 = os.path.join(folder, file2)\n",
    "posts_users_df = pd.read_csv(path2)"
   ]
  },
  {
   "cell_type": "code",
   "execution_count": 5,
   "id": "306d9241",
   "metadata": {},
   "outputs": [
    {
     "ename": "",
     "evalue": "",
     "output_type": "error",
     "traceback": [
      "\u001b[1;31mThe Kernel crashed while executing code in the current cell or a previous cell. \n",
      "\u001b[1;31mPlease review the code in the cell(s) to identify a possible cause of the failure. \n",
      "\u001b[1;31mClick <a href='https://aka.ms/vscodeJupyterKernelCrash'>here</a> for more info. \n",
      "\u001b[1;31mView Jupyter <a href='command:jupyter.viewOutput'>log</a> for further details."
     ]
    }
   ],
   "source": [
    "comments_df = comments_df.rename(columns={\"CreationDate\": \"CreationDate_Comment\"})\n",
    "\n",
    "comments_with_users = comments_df.merge(\n",
    "    posts_users_df,\n",
    "    left_on=\"UserId\",\n",
    "    right_on=\"Id_user\",\n",
    "    how=\"inner\"  # change to \"left\" if you want to keep all comments\n",
    ")\n",
    "\n",
    "# Inspect the result\n",
    "print(\"Merged shape:\", comments_with_users.shape)\n",
    "print(comments_with_users.head())\n"
   ]
  }
 ],
 "metadata": {
  "kernelspec": {
   "display_name": "Datamining",
   "language": "python",
   "name": "python3"
  },
  "language_info": {
   "codemirror_mode": {
    "name": "ipython",
    "version": 3
   },
   "file_extension": ".py",
   "mimetype": "text/x-python",
   "name": "python",
   "nbconvert_exporter": "python",
   "pygments_lexer": "ipython3",
   "version": "3.10.16"
  }
 },
 "nbformat": 4,
 "nbformat_minor": 5
}
