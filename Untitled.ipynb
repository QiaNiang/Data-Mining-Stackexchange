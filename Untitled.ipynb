{
 "cells": [
  {
   "cell_type": "code",
   "execution_count": 3,
   "id": "6a7d9a22-aa05-4cc9-bb7c-f6ede86536a9",
   "metadata": {},
   "outputs": [
    {
     "name": "stderr",
     "output_type": "stream",
     "text": [
      "/var/folders/7k/0ysh65352j9bnvtmhpr3kcs00000gn/T/ipykernel_23032/1084618950.py:7: DtypeWarning: Columns (0,1) have mixed types. Specify dtype option on import or set low_memory=False.\n",
      "  comments_df = pd.read_csv(\"/Users/adilshamji/Documents/25-Data-mining-lab/Data-Mining-Stackexchange/data/Physics_Comments.csv\")\n"
     ]
    },
    {
     "name": "stdout",
     "output_type": "stream",
     "text": [
      "Posts + Users columns: ['Id_post', 'PostTypeId', 'AcceptedAnswerId', 'CreationDate_post', 'Score', 'ViewCount', 'Body', 'OwnerUserId', 'LastEditorUserId', 'LastEditDate', 'LastActivityDate', 'Title', 'Tags', 'AnswerCount', 'CommentCount', 'ContentLicense', 'ParentId', 'OwnerDisplayName', 'ClosedDate', 'LastEditorDisplayName', 'CommunityOwnedDate', 'FavoriteCount', 'CleanBodyNoMath', 'SentimentScore', 'SentimentLabel', 'Id_user', 'Reputation', 'CreationDate_user', 'DisplayName', 'LastAccessDate', 'WebsiteUrl', 'Location', 'AboutMe', 'Views', 'UpVotes', 'DownVotes', 'AccountId']\n",
      "Comments columns: ['Id', 'PostId', 'Score', 'Text', 'CreationDate', 'UserId', 'UserDisplayName']\n"
     ]
    }
   ],
   "source": [
    "import pandas as pd\n",
    "\n",
    "import pandas as pd\n",
    "\n",
    "# Load the files\n",
    "posts_users_df = pd.read_csv(\"/Users/adilshamji/Documents/25-Data-mining-lab/Data-Mining-Stackexchange/data/Merged_posts_to_users.csv\")\n",
    "comments_df = pd.read_csv(\"/Users/adilshamji/Documents/25-Data-mining-lab/Data-Mining-Stackexchange/data/Physics_Comments.csv\")\n",
    "\n",
    "print(\"Posts + Users columns:\", posts_users_df.columns.tolist())\n",
    "print(\"Comments columns:\", comments_df.columns.tolist())\n",
    "\n"
   ]
  },
  {
   "cell_type": "code",
   "execution_count": 1,
   "id": "f9a409df-b69a-4554-a595-8124eece0517",
   "metadata": {},
   "outputs": [
    {
     "ename": "NameError",
     "evalue": "name 'comments_df' is not defined",
     "output_type": "error",
     "traceback": [
      "\u001b[0;31m---------------------------------------------------------------------------\u001b[0m",
      "\u001b[0;31mNameError\u001b[0m                                 Traceback (most recent call last)",
      "Cell \u001b[0;32mIn[1], line 1\u001b[0m\n\u001b[0;32m----> 1\u001b[0m comments_df \u001b[38;5;241m=\u001b[39m \u001b[43mcomments_df\u001b[49m\u001b[38;5;241m.\u001b[39mrename(columns\u001b[38;5;241m=\u001b[39m{\u001b[38;5;124m\"\u001b[39m\u001b[38;5;124mCreationDate\u001b[39m\u001b[38;5;124m\"\u001b[39m: \u001b[38;5;124m\"\u001b[39m\u001b[38;5;124mCreationDate_Comment\u001b[39m\u001b[38;5;124m\"\u001b[39m})\n\u001b[1;32m      2\u001b[0m comments_with_users \u001b[38;5;241m=\u001b[39m comments_df\u001b[38;5;241m.\u001b[39mmerge(\n\u001b[1;32m      3\u001b[0m     posts_users_df,\n\u001b[1;32m      4\u001b[0m     left_on\u001b[38;5;241m=\u001b[39m\u001b[38;5;124m\"\u001b[39m\u001b[38;5;124mUserId\u001b[39m\u001b[38;5;124m\"\u001b[39m,\n\u001b[1;32m      5\u001b[0m     right_on\u001b[38;5;241m=\u001b[39m\u001b[38;5;124m\"\u001b[39m\u001b[38;5;124mId_user\u001b[39m\u001b[38;5;124m\"\u001b[39m,\n\u001b[1;32m      6\u001b[0m     how\u001b[38;5;241m=\u001b[39m\u001b[38;5;124m\"\u001b[39m\u001b[38;5;124minner\u001b[39m\u001b[38;5;124m\"\u001b[39m  \u001b[38;5;66;03m# change to \"left\" if you want to keep all comments\u001b[39;00m\n\u001b[1;32m      7\u001b[0m )\n",
      "\u001b[0;31mNameError\u001b[0m: name 'comments_df' is not defined"
     ]
    }
   ],
   "source": [
    "comments_df = comments_df.rename(columns={\"CreationDate\": \"CreationDate_Comment\"})\n",
    "comments_with_users = comments_df.merge(\n",
    "    posts_users_df,\n",
    "    left_on=\"UserId\",\n",
    "    right_on=\"Id_user\",\n",
    "    how=\"inner\"  # change to \"left\" if you want to keep all comments\n",
    ")\n"
   ]
  },
  {
   "cell_type": "code",
   "execution_count": null,
   "id": "18a79560-fdb1-4f67-87da-bd174366eaae",
   "metadata": {},
   "outputs": [],
   "source": [
    "# Inspect the result\n",
    "print(\"Merged shape:\", comments_with_users.shape)\n",
    "print(comments_with_users.head())"
   ]
  }
 ],
 "metadata": {
  "kernelspec": {
   "display_name": "Python 3 (ipykernel)",
   "language": "python",
   "name": "python3"
  },
  "language_info": {
   "codemirror_mode": {
    "name": "ipython",
    "version": 3
   },
   "file_extension": ".py",
   "mimetype": "text/x-python",
   "name": "python",
   "nbconvert_exporter": "python",
   "pygments_lexer": "ipython3",
   "version": "3.8.6"
  }
 },
 "nbformat": 4,
 "nbformat_minor": 5
}
