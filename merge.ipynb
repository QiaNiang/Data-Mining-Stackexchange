import pandas as pd

# Load the files
posts_users_df = pd.read_csv("/Users/adilshamji/Documents/25-Data-mining-lab/Data-Mining-Stackexchange/data/Merged_posts_to_users.csv")
comments_df = pd.read_csv("/Users/adilshamji/Documents/25-Data-mining-lab/Data-Mining-Stackexchange/data/Physics_Comments.csv")

print("Posts + Users columns:", posts_users_df.columns.tolist())
print("Comments columns:", comments_df.columns.tolist())
